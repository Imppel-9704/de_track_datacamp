{
  "nbformat": 4,
  "nbformat_minor": 0,
  "metadata": {
    "colab": {
      "provenance": [],
      "toc_visible": true,
      "authorship_tag": "ABX9TyNmexyRXyF6bsBgRuHHmqeI",
      "include_colab_link": true
    },
    "kernelspec": {
      "name": "python3",
      "display_name": "Python 3"
    },
    "language_info": {
      "name": "python"
    }
  },
  "cells": [
    {
      "cell_type": "markdown",
      "metadata": {
        "id": "view-in-github",
        "colab_type": "text"
      },
      "source": [
        "<a href=\"https://colab.research.google.com/github/Imppel-9704/de_track_datacamp/blob/main/l13_Writing_Efficient_Python_Code.ipynb\" target=\"_parent\"><img src=\"https://colab.research.google.com/assets/colab-badge.svg\" alt=\"Open In Colab\"/></a>"
      ]
    },
    {
      "cell_type": "markdown",
      "source": [
        "# Writing Efficient Python Code\n",
        "In this course\n",
        "- How to write clean, fast and efficient Python code.\n",
        "- How to profile your code for bottlenecks.\n",
        "- How to eliminate bottlenecks and bad design patterns.\n",
        "\n",
        "Defining efficient\n",
        "- Minimal completion time (fast runtime)\n",
        "- Minimal resource consumption (small memory footprint)\n",
        "\n",
        "Defining Pythonic\n",
        "- Focus on readability.\n",
        "- Using Python's construcst as intended (i.e. Pythonic)\n",
        "\n",
        "```\n",
        "# Non-Pythonic\n",
        "doubled_numbers = []\n",
        "\n",
        "for i in range(len(numbers)):\n",
        "  doubled_numbers.append(numbers[i] * 2)\n",
        "\n",
        "# Pythonic\n",
        "doubled_numbers = [x * 2 for x in numbers]\n",
        "```"
      ],
      "metadata": {
        "id": "67DZGckL8C81"
      }
    },
    {
      "cell_type": "code",
      "source": [
        "names = ['Kramer', 'Elaine', 'George', 'Newman']\n",
        "\n",
        "# Print the list created using the Non-Pythonic approach\n",
        "i = 0\n",
        "new_list= []\n",
        "while i < len(names):\n",
        "  if len(names[i]) >= 6:\n",
        "    new_list.append(names[i])\n",
        "  i += 1\n",
        "print(new_list)"
      ],
      "metadata": {
        "colab": {
          "base_uri": "https://localhost:8080/"
        },
        "id": "ZcRWxpFj-TYS",
        "outputId": "06c9cd72-98c8-49d0-974b-6a28ada904fa"
      },
      "execution_count": null,
      "outputs": [
        {
          "output_type": "stream",
          "name": "stdout",
          "text": [
            "['Kramer', 'Elaine', 'George', 'Newman']\n"
          ]
        }
      ]
    },
    {
      "cell_type": "code",
      "source": [
        "names = ['Kramer', 'Elaine', 'George', 'Newman']\n",
        "\n",
        "# Print the list created by looping over the contents of names\n",
        "better_list = []\n",
        "for name in names:\n",
        "  if len(name) >= 6:\n",
        "    better_list.append(name)\n",
        "print(better_list)"
      ],
      "metadata": {
        "colab": {
          "base_uri": "https://localhost:8080/"
        },
        "id": "xCaaN6s9-YtN",
        "outputId": "fdfdc1fd-c30e-46d3-8670-a536b6637cc2"
      },
      "execution_count": null,
      "outputs": [
        {
          "output_type": "stream",
          "name": "stdout",
          "text": [
            "['Kramer', 'Elaine', 'George', 'Newman']\n"
          ]
        }
      ]
    },
    {
      "cell_type": "code",
      "source": [
        "names = ['Kramer', 'Elaine', 'George', 'Newman']\n",
        "\n",
        "# Print the list created by using list comprehension\n",
        "best_list = [name for name in names if len(name) >= 6]\n",
        "print(best_list)"
      ],
      "metadata": {
        "colab": {
          "base_uri": "https://localhost:8080/"
        },
        "id": "rCSrZviO-cKV",
        "outputId": "d68c9cf8-5e97-4ef6-82dc-949f4f3c91d3"
      },
      "execution_count": null,
      "outputs": [
        {
          "output_type": "stream",
          "name": "stdout",
          "text": [
            "['Kramer', 'Elaine', 'George', 'Newman']\n"
          ]
        }
      ]
    },
    {
      "cell_type": "markdown",
      "source": [
        "## Building with built-ins\n",
        "Built-in components are referred to as the Python Standard library.\n",
        "\n",
        "- Python 3.6 Standard Library\n",
        "  - Part of every standard Python installation.\n",
        "- Built-in types\n",
        "  - list, tuple, set, dict, and others.\n",
        "- Built-in functions\n",
        "  - print(), len(), range(), round(), enumerate(), map(), zip(), and others.\n",
        "- Built-in modules\n",
        "  - os, sys, itertools, collections, math, and others."
      ],
      "metadata": {
        "id": "9VGqZFRX-pul"
      }
    },
    {
      "cell_type": "code",
      "source": [
        "# Built-in Function: range()\n",
        "# Explicitly typing a list of numbers.\n",
        "\n",
        "nums = [0, 1, 2, 3, 4, 5, 6, 7, 8, 9, 10]\n",
        "\n",
        "# Using range() to create the same list\n",
        "# range(start, stop)\n",
        "nums = range(0, 11)\n",
        "num_list = list(nums)\n",
        "print(num_list)"
      ],
      "metadata": {
        "colab": {
          "base_uri": "https://localhost:8080/"
        },
        "id": "X4_wSB26_uLr",
        "outputId": "fbdf056d-e1de-4155-f75d-aa39a70197ce"
      },
      "execution_count": null,
      "outputs": [
        {
          "output_type": "stream",
          "name": "stdout",
          "text": [
            "[0, 1, 2, 3, 4, 5, 6, 7, 8, 9, 10]\n"
          ]
        }
      ]
    },
    {
      "cell_type": "code",
      "source": [
        "# range(stop)\n",
        "nums = range(11)\n",
        "num_list = list(nums)\n",
        "print(num_list)"
      ],
      "metadata": {
        "colab": {
          "base_uri": "https://localhost:8080/"
        },
        "id": "RDG9wEWXAFsu",
        "outputId": "6abf8991-32e0-4f21-8362-9d0bb03af145"
      },
      "execution_count": null,
      "outputs": [
        {
          "output_type": "stream",
          "name": "stdout",
          "text": [
            "[0, 1, 2, 3, 4, 5, 6, 7, 8, 9, 10]\n"
          ]
        }
      ]
    },
    {
      "cell_type": "code",
      "source": [
        "# Using range() with a step value\n",
        "even_nums = range(2, 11, 2)\n",
        "\n",
        "even_num_list = list(even_nums)\n",
        "print(even_num_list)"
      ],
      "metadata": {
        "colab": {
          "base_uri": "https://localhost:8080/"
        },
        "id": "hqskOWGcAOGS",
        "outputId": "5ac5ba45-d855-41ca-dab1-4172c24c7f96"
      },
      "execution_count": null,
      "outputs": [
        {
          "output_type": "stream",
          "name": "stdout",
          "text": [
            "[2, 4, 6, 8, 10]\n"
          ]
        }
      ]
    },
    {
      "cell_type": "code",
      "source": [
        "# Built-in Function: enumerate()\n",
        "# enumerate creates an index item pair for each item in the object provided.\n",
        "\n",
        "letters = ['a', 'b', 'c', 'd']\n",
        "\n",
        "indexed_letters = enumerate(letters)\n",
        "indexed_letters_list = list(indexed_letters)\n",
        "print(indexed_letters_list)"
      ],
      "metadata": {
        "colab": {
          "base_uri": "https://localhost:8080/"
        },
        "id": "OD-cdUhxAdPX",
        "outputId": "e0be5238-660d-4f79-b594-07f74d84d8c1"
      },
      "execution_count": null,
      "outputs": [
        {
          "output_type": "stream",
          "name": "stdout",
          "text": [
            "[(0, 'a'), (1, 'b'), (2, 'c'), (3, 'd')]\n"
          ]
        }
      ]
    },
    {
      "cell_type": "code",
      "source": [
        "letters = ['a', 'b', 'c', 'd']\n",
        "\n",
        "# start the indexs at 5\n",
        "indexed_letters2 = enumerate(letters, start=5)\n",
        "\n",
        "indexed_letters2_list = list(indexed_letters2)\n",
        "print(indexed_letters2_list)"
      ],
      "metadata": {
        "colab": {
          "base_uri": "https://localhost:8080/"
        },
        "id": "S0C4guaMA-c6",
        "outputId": "e274cd1a-982b-4d18-b187-462804f28011"
      },
      "execution_count": null,
      "outputs": [
        {
          "output_type": "stream",
          "name": "stdout",
          "text": [
            "[(5, 'a'), (6, 'b'), (7, 'c'), (8, 'd')]\n"
          ]
        }
      ]
    },
    {
      "cell_type": "code",
      "source": [
        "# Built-in Function: map()\n",
        "# map applies a function to each element in an object.\n",
        "# map takes 2 arguments 1. the function you'd like to apply 2. the object that you'd like to apply that function on.\n",
        "nums = [1.5, 2.3, 3.4, 4.6, 5.0]\n",
        "\n",
        "rnd_nums = map(round, nums)\n",
        "\n",
        "print(list(rnd_nums))"
      ],
      "metadata": {
        "colab": {
          "base_uri": "https://localhost:8080/"
        },
        "id": "kSFeVlafBIGZ",
        "outputId": "426ac3ca-f513-42bf-e1bd-fadd894a5133"
      },
      "execution_count": null,
      "outputs": [
        {
          "output_type": "stream",
          "name": "stdout",
          "text": [
            "[2, 2, 3, 5, 5]\n"
          ]
        }
      ]
    },
    {
      "cell_type": "code",
      "source": [
        "# map() with lambda (anonymous function)\n",
        "nums = [1, 2, 3, 4, 5]\n",
        "\n",
        "sqrd_nums = map(lambda x: x ** 2, nums)\n",
        "\n",
        "print(list(sqrd_nums))"
      ],
      "metadata": {
        "colab": {
          "base_uri": "https://localhost:8080/"
        },
        "id": "LBNVHFCGBsXe",
        "outputId": "98a12f07-fdaf-49c7-a1da-23f1e88d066d"
      },
      "execution_count": null,
      "outputs": [
        {
          "output_type": "stream",
          "name": "stdout",
          "text": [
            "[1, 4, 9, 16, 25]\n"
          ]
        }
      ]
    },
    {
      "cell_type": "code",
      "source": [
        "# Exercise 1\n",
        "# Create a range object that goes from 0 to 5\n",
        "nums = range(0 ,6)\n",
        "print(type(nums))\n",
        "\n",
        "# Convert nums to a list\n",
        "nums_list = list(nums)\n",
        "print(nums_list)\n",
        "\n",
        "# Create a new list of odd numbers from 1 to 11 by unpacking a range object\n",
        "nums_list2 = [*range(1, 12, 2)]\n",
        "print(nums_list2)"
      ],
      "metadata": {
        "colab": {
          "base_uri": "https://localhost:8080/"
        },
        "id": "KhALlQE_CeiC",
        "outputId": "3d2adfec-9583-4f51-e3a1-73afc5ab5492"
      },
      "execution_count": null,
      "outputs": [
        {
          "output_type": "stream",
          "name": "stdout",
          "text": [
            "<class 'range'>\n",
            "[0, 1, 2, 3, 4, 5]\n",
            "[1, 3, 5, 7, 9, 11]\n"
          ]
        }
      ]
    },
    {
      "cell_type": "code",
      "source": [
        "# Exercise 2\n",
        "names = ['Jerry', 'Kramer', 'Elaine', 'George', 'Newman']\n",
        "\n",
        "# Rewrite the for loop to use enumerate\n",
        "indexed_names = []\n",
        "for i, name in enumerate(names):\n",
        "    index_name = (i,name)\n",
        "    indexed_names.append(index_name)\n",
        "print(indexed_names)\n",
        "\n",
        "# Rewrite the above for loop using list comprehension\n",
        "indexed_names_comp = [(i ,name) for i,name in enumerate(names)]\n",
        "print(indexed_names_comp)\n",
        "\n",
        "# Unpack an enumerate object with a starting index of one\n",
        "indexed_names_unpack = [*enumerate(names, 1)]\n",
        "print(indexed_names_unpack)"
      ],
      "metadata": {
        "colab": {
          "base_uri": "https://localhost:8080/"
        },
        "id": "WG_eLAG-DVw1",
        "outputId": "129d911b-b661-4324-8d9f-9284bc6cb55e"
      },
      "execution_count": null,
      "outputs": [
        {
          "output_type": "stream",
          "name": "stdout",
          "text": [
            "[(0, 'Jerry'), (1, 'Kramer'), (2, 'Elaine'), (3, 'George'), (4, 'Newman')]\n",
            "[(0, 'Jerry'), (1, 'Kramer'), (2, 'Elaine'), (3, 'George'), (4, 'Newman')]\n",
            "[(1, 'Jerry'), (2, 'Kramer'), (3, 'Elaine'), (4, 'George'), (5, 'Newman')]\n"
          ]
        }
      ]
    },
    {
      "cell_type": "code",
      "source": [
        "# Exercise 3\n",
        "names = ['Jerry', 'Kramer', 'Elaine', 'George', 'Newman']\n",
        "\n",
        "# Use map to apply str.upper to each element in names\n",
        "names_map  = map(str.upper, names)\n",
        "\n",
        "# Print the type of the names_map\n",
        "print(type(names_map))\n",
        "\n",
        "# Unpack names_map into a list\n",
        "names_uppercase = [*names_map]\n",
        "\n",
        "# Print the list created above\n",
        "print(names_uppercase)"
      ],
      "metadata": {
        "colab": {
          "base_uri": "https://localhost:8080/"
        },
        "id": "dP-2x6hmDqji",
        "outputId": "bcb4ab14-2228-4e25-937c-ad8441322542"
      },
      "execution_count": null,
      "outputs": [
        {
          "output_type": "stream",
          "name": "stdout",
          "text": [
            "<class 'map'>\n",
            "['JERRY', 'KRAMER', 'ELAINE', 'GEORGE', 'NEWMAN']\n"
          ]
        }
      ]
    },
    {
      "cell_type": "markdown",
      "source": [
        "## The power of NumPy arrays\n",
        "NumPy arrays provide a fast and memory efficient alternative to Python lists.\n",
        "\n",
        "- Alternative Python lists\n",
        "\n",
        "```\n",
        "num_list = list(range(5))\n",
        "```\n",
        "\n",
        "```\n",
        "import numpy as np\n",
        "\n",
        "num_list = np.array(range(5))\n",
        "```\n",
        "\n",
        "NumPy arrays are homogeneous, which means it must contain elements of the same type.\n",
        "\n",
        "```\n",
        "nums_np_ints = np.array([1, 2, 3])\n",
        "\n",
        "nums_np_ints.dtype\n",
        "```\n",
        "\n"
      ],
      "metadata": {
        "id": "mGt9Y9kPDxjs"
      }
    },
    {
      "cell_type": "code",
      "source": [
        "import numpy as np\n",
        "\n",
        "num_list = np.array(range(5))\n",
        "\n",
        "num_list"
      ],
      "metadata": {
        "colab": {
          "base_uri": "https://localhost:8080/"
        },
        "id": "RaJDrNYtEsPY",
        "outputId": "80c832c6-f87a-47f6-b2e6-e4ff3776f3db"
      },
      "execution_count": null,
      "outputs": [
        {
          "output_type": "execute_result",
          "data": {
            "text/plain": [
              "array([0, 1, 2, 3, 4])"
            ]
          },
          "metadata": {},
          "execution_count": 24
        }
      ]
    },
    {
      "cell_type": "code",
      "source": [
        "# NumPy arrays are homogeneous\n",
        "nums_np_ints = np.array([1, 2, 3])\n",
        "print(nums_np_ints)\n",
        "\n",
        "nums_np_ints.dtype"
      ],
      "metadata": {
        "colab": {
          "base_uri": "https://localhost:8080/"
        },
        "id": "YHDV92-MEuWh",
        "outputId": "d079812b-ecad-4393-f4ef-65cd1c148287"
      },
      "execution_count": null,
      "outputs": [
        {
          "output_type": "stream",
          "name": "stdout",
          "text": [
            "[1 2 3]\n"
          ]
        },
        {
          "output_type": "execute_result",
          "data": {
            "text/plain": [
              "dtype('int64')"
            ]
          },
          "metadata": {},
          "execution_count": 25
        }
      ]
    },
    {
      "cell_type": "code",
      "source": [
        "nums_np_float = np.array([1, 2.5, 3])\n",
        "\n",
        "print(nums_np_float)\n",
        "nums_np_float.dtype"
      ],
      "metadata": {
        "colab": {
          "base_uri": "https://localhost:8080/"
        },
        "id": "M2SKBMi3E3b3",
        "outputId": "29da87f7-b2f6-4908-8190-cbad85814527"
      },
      "execution_count": null,
      "outputs": [
        {
          "output_type": "stream",
          "name": "stdout",
          "text": [
            "[1.  2.5 3. ]\n"
          ]
        },
        {
          "output_type": "execute_result",
          "data": {
            "text/plain": [
              "dtype('float64')"
            ]
          },
          "metadata": {},
          "execution_count": 27
        }
      ]
    },
    {
      "cell_type": "code",
      "source": [
        "# NumPy array broadcasting\n",
        "# Python lists don't support broadcasting\n",
        "nums = [-2, -1, 0, 1, 2]\n",
        "nums ** 2"
      ],
      "metadata": {
        "colab": {
          "base_uri": "https://localhost:8080/",
          "height": 210
        },
        "id": "NBtSx-2hFEnF",
        "outputId": "e3e095c8-3830-43b9-a472-da496c4336b6"
      },
      "execution_count": null,
      "outputs": [
        {
          "output_type": "error",
          "ename": "TypeError",
          "evalue": "ignored",
          "traceback": [
            "\u001b[0;31m---------------------------------------------------------------------------\u001b[0m",
            "\u001b[0;31mTypeError\u001b[0m                                 Traceback (most recent call last)",
            "\u001b[0;32m<ipython-input-29-da96c8824c88>\u001b[0m in \u001b[0;36m<cell line: 4>\u001b[0;34m()\u001b[0m\n\u001b[1;32m      2\u001b[0m \u001b[0;31m# Python lists don't support broadcasting\u001b[0m\u001b[0;34m\u001b[0m\u001b[0;34m\u001b[0m\u001b[0m\n\u001b[1;32m      3\u001b[0m \u001b[0mnums\u001b[0m \u001b[0;34m=\u001b[0m \u001b[0;34m[\u001b[0m\u001b[0;34m-\u001b[0m\u001b[0;36m2\u001b[0m\u001b[0;34m,\u001b[0m \u001b[0;34m-\u001b[0m\u001b[0;36m1\u001b[0m\u001b[0;34m,\u001b[0m \u001b[0;36m0\u001b[0m\u001b[0;34m,\u001b[0m \u001b[0;36m1\u001b[0m\u001b[0;34m,\u001b[0m \u001b[0;36m2\u001b[0m\u001b[0;34m]\u001b[0m\u001b[0;34m\u001b[0m\u001b[0;34m\u001b[0m\u001b[0m\n\u001b[0;32m----> 4\u001b[0;31m \u001b[0mnums\u001b[0m \u001b[0;34m**\u001b[0m \u001b[0;36m2\u001b[0m\u001b[0;34m\u001b[0m\u001b[0;34m\u001b[0m\u001b[0m\n\u001b[0m",
            "\u001b[0;31mTypeError\u001b[0m: unsupported operand type(s) for ** or pow(): 'list' and 'int'"
          ]
        }
      ]
    },
    {
      "cell_type": "code",
      "source": [
        "# List approach\n",
        "# For loop (inefficient option)\n",
        "sqrd_nums = []\n",
        "for num in nums:\n",
        "  sqrd_nums.append(num ** 2)\n",
        "print(sqrd_nums)"
      ],
      "metadata": {
        "colab": {
          "base_uri": "https://localhost:8080/"
        },
        "id": "csiKMVZuFWCq",
        "outputId": "acd8f9d4-6233-492d-a344-e303765cb59a"
      },
      "execution_count": null,
      "outputs": [
        {
          "output_type": "stream",
          "name": "stdout",
          "text": [
            "[4, 1, 0, 1, 4]\n"
          ]
        }
      ]
    },
    {
      "cell_type": "code",
      "source": [
        "# List comprehension (better option but not the best)\n",
        "sqrd_nums = [num ** 2 for num in nums]\n",
        "print(sqrd_nums)"
      ],
      "metadata": {
        "colab": {
          "base_uri": "https://localhost:8080/"
        },
        "id": "vJLdGv4VFkgo",
        "outputId": "b74bea76-ef4a-457b-e51c-b474e1faccae"
      },
      "execution_count": null,
      "outputs": [
        {
          "output_type": "stream",
          "name": "stdout",
          "text": [
            "[4, 1, 0, 1, 4]\n"
          ]
        }
      ]
    },
    {
      "cell_type": "code",
      "source": [
        "# NumPy array broadcasting\n",
        "# NumPy array broadcasting for the win!\n",
        "\n",
        "nums_np = np.array([-2, -1, 0, 1, 2])\n",
        "nums_np ** 2"
      ],
      "metadata": {
        "colab": {
          "base_uri": "https://localhost:8080/"
        },
        "id": "mmRDLR2VFzDe",
        "outputId": "c5a4e525-26bf-4110-e33d-53f186e660bb"
      },
      "execution_count": null,
      "outputs": [
        {
          "output_type": "execute_result",
          "data": {
            "text/plain": [
              "array([4, 1, 0, 1, 4])"
            ]
          },
          "metadata": {},
          "execution_count": 32
        }
      ]
    },
    {
      "cell_type": "code",
      "source": [
        "# Basic 1-D indexing (lists)\n",
        "nums = [-2, -1, 0, 1, 2]\n",
        "\n",
        "print(nums[2])\n",
        "print(nums[-1])\n",
        "print(nums[1:4])\n",
        "\n",
        "# Basic 1-D indexing (arrays)\n",
        "nums_np = np.array(nums)\n",
        "\n",
        "print(nums_np[2])\n",
        "print(nums_np[-1])\n",
        "print(nums_np[1:4])\n",
        "\n",
        "# When comparing basic indexing, the capabilities are identical."
      ],
      "metadata": {
        "colab": {
          "base_uri": "https://localhost:8080/"
        },
        "id": "C0ysDV8HGG5c",
        "outputId": "d0764e8f-89e0-4894-89fb-e735e20f9427"
      },
      "execution_count": null,
      "outputs": [
        {
          "output_type": "stream",
          "name": "stdout",
          "text": [
            "0\n",
            "2\n",
            "[-1, 0, 1]\n",
            "0\n",
            "2\n",
            "[-1  0  1]\n"
          ]
        }
      ]
    },
    {
      "cell_type": "code",
      "source": [
        "# 2-D list\n",
        "nums2 = [[1, 2, 3], [4, 5, 6]]\n",
        "\n",
        "print(nums2[0][1])\n",
        "print([row[0] for row in nums2])\n",
        "\n",
        "# 2-D arrays\n",
        "nums2_np = np.array(nums2)\n",
        "\n",
        "print(nums2_np[0, 1])\n",
        "print(nums2_np[:, 0])"
      ],
      "metadata": {
        "colab": {
          "base_uri": "https://localhost:8080/"
        },
        "id": "iom23dYPGO-6",
        "outputId": "79cc9a09-80be-4f5f-c6a7-b9c0f2b0970c"
      },
      "execution_count": null,
      "outputs": [
        {
          "output_type": "stream",
          "name": "stdout",
          "text": [
            "2\n",
            "[1, 4]\n",
            "2\n",
            "[1 4]\n"
          ]
        }
      ]
    },
    {
      "cell_type": "code",
      "source": [
        "# NumPy arrays boolean indexing\n",
        "nums = [-2, -1, 0, 1, 2]\n",
        "nums_np = np.array(nums)\n",
        "\n",
        "# boolean indexing\n",
        "nums_np > 0"
      ],
      "metadata": {
        "colab": {
          "base_uri": "https://localhost:8080/"
        },
        "id": "6p4MizDkHXGj",
        "outputId": "9bc175f9-43bb-46f5-c745-70f1cb121aba"
      },
      "execution_count": null,
      "outputs": [
        {
          "output_type": "execute_result",
          "data": {
            "text/plain": [
              "array([False, False, False,  True,  True])"
            ]
          },
          "metadata": {},
          "execution_count": 42
        }
      ]
    },
    {
      "cell_type": "code",
      "source": [
        "nums_np[nums_np > 0]"
      ],
      "metadata": {
        "colab": {
          "base_uri": "https://localhost:8080/"
        },
        "id": "G1Imhp8BHgjU",
        "outputId": "9bd27460-7e22-4c9c-e90d-877a118fcde6"
      },
      "execution_count": null,
      "outputs": [
        {
          "output_type": "execute_result",
          "data": {
            "text/plain": [
              "array([1, 2])"
            ]
          },
          "metadata": {},
          "execution_count": 43
        }
      ]
    },
    {
      "cell_type": "code",
      "source": [
        "# No boolean indexing for lists\n",
        "# For loop (inefficient option)\n",
        "pos = []\n",
        "for num in nums:\n",
        "  if num > 0:\n",
        "    pos.append(num)\n",
        "print(pos)"
      ],
      "metadata": {
        "colab": {
          "base_uri": "https://localhost:8080/"
        },
        "id": "asy_f-qVHoB_",
        "outputId": "a9a32879-d6b3-43d0-df27-d887832e108e"
      },
      "execution_count": null,
      "outputs": [
        {
          "output_type": "stream",
          "name": "stdout",
          "text": [
            "[1, 2]\n"
          ]
        }
      ]
    },
    {
      "cell_type": "code",
      "source": [
        "# List comprehension (better option but not the best)\n",
        "pos = [num for num in nums if num > 0]\n",
        "print(pos)"
      ],
      "metadata": {
        "colab": {
          "base_uri": "https://localhost:8080/"
        },
        "id": "l7O-OxplHzXp",
        "outputId": "cab5764a-8b4f-44ae-a1bf-8647ff62b849"
      },
      "execution_count": null,
      "outputs": [
        {
          "output_type": "stream",
          "name": "stdout",
          "text": [
            "[1, 2]\n"
          ]
        }
      ]
    },
    {
      "cell_type": "code",
      "source": [
        "# Exercise 1\n",
        "\n",
        "nums = np.array([[1, 2, 3, 4, 5], [6, 7, 8, 9, 10]])\n",
        "# Print second row of nums\n",
        "print(nums[1,:])\n",
        "\n",
        "# Print all elements of nums that are greater than six\n",
        "print(nums[nums > 6])\n",
        "\n",
        "# Double every element of nums\n",
        "nums_dbl = nums * 2\n",
        "print(nums_dbl)\n",
        "\n",
        "# Replace the third column of nums\n",
        "nums[:,2] = nums[:,2] + 1\n",
        "print(nums)"
      ],
      "metadata": {
        "colab": {
          "base_uri": "https://localhost:8080/"
        },
        "id": "k6fV5NcII1Lb",
        "outputId": "af291c63-388b-459c-e7ac-1ed18a3e0429"
      },
      "execution_count": null,
      "outputs": [
        {
          "output_type": "stream",
          "name": "stdout",
          "text": [
            "[ 6  7  8  9 10]\n",
            "[ 7  8  9 10]\n",
            "[[ 2  4  6  8 10]\n",
            " [12 14 16 18 20]]\n",
            "[[ 1  2  4  4  5]\n",
            " [ 6  7  9  9 10]]\n"
          ]
        }
      ]
    },
    {
      "cell_type": "code",
      "source": [
        "# Exercise 2\n",
        "# Create a list of arrival times\n",
        "arrival_times = [*range(10,60,10)]\n",
        "\n",
        "# Convert arrival_times to an array and update the times\n",
        "arrival_times_np = np.array(arrival_times)\n",
        "new_times = arrival_times_np - 3\n",
        "\n",
        "# Use list comprehension and enumerate to pair guests to new times\n",
        "guest_arrivals = [(names[i],time) for i,time in enumerate(new_times)]\n",
        "\n",
        "print(guest_arrivals)"
      ],
      "metadata": {
        "colab": {
          "base_uri": "https://localhost:8080/"
        },
        "id": "6YqpGzA4KSTx",
        "outputId": "0302a214-e857-452c-cda2-a175e3867fe6"
      },
      "execution_count": null,
      "outputs": [
        {
          "output_type": "stream",
          "name": "stdout",
          "text": [
            "[('Jerry', 7), ('Kramer', 17), ('Elaine', 27), ('George', 37), ('Newman', 47)]\n"
          ]
        }
      ]
    },
    {
      "cell_type": "markdown",
      "source": [
        "## Examining runtime\n",
        "\n",
        "## Why should we time our code?\n",
        "- Allows us to pick the optimal coding approach\n",
        "- Faster code == more efficient code!\n",
        "\n",
        "How can we time our code?\n",
        "- Calculate runtime with IPython magic command %timeit - Magic commands: enhancements on top of normal Python syntax\n",
        "  - Prefixed by the \"%\" character.\n",
        "  - See all available magic commads with %lsmagic.\n",
        "\n",
        "### Using %timeit\n",
        "Code to be timed\n",
        "```\n",
        "import numpy as np\n",
        "rand_nums = np.random.rand(1000)\n",
        "```\n",
        "\n",
        "Timing with %timeit\n",
        "```\n",
        "%timeit rand_nums = np.random.rand(1000)\n",
        "```\n",
        "\n",
        "### Specifying number of runs/loops\n",
        "- The number of runs represents how many iterations you'd like to use to estimate the runtime.\n",
        "- The number of loops represents how many times you'd like to code to be executed per run.\n",
        "\n",
        "Setting the number of runs (-r) and/or loops (-n)"
      ],
      "metadata": {
        "id": "3L42Q3hWLICc"
      }
    },
    {
      "cell_type": "code",
      "source": [
        "import numpy as np\n",
        "rand_nums = np.random.rand(1000)\n",
        "\n",
        "%timeit rand_nums = np.random.rand(1000)"
      ],
      "metadata": {
        "colab": {
          "base_uri": "https://localhost:8080/"
        },
        "id": "7PkuVWo-MH3_",
        "outputId": "c5408298-66bd-4480-87f7-6093ce0b75db"
      },
      "execution_count": null,
      "outputs": [
        {
          "output_type": "stream",
          "name": "stdout",
          "text": [
            "10.8 µs ± 2.89 µs per loop (mean ± std. dev. of 7 runs, 100000 loops each)\n"
          ]
        }
      ]
    },
    {
      "cell_type": "code",
      "source": [
        "# Set number of runs to 2 (-r2)\n",
        "# Set number of loops to 10 (-n10)\n",
        "\n",
        "%timeit -r2 -n10 rand_nums = np.random.rand(1000)"
      ],
      "metadata": {
        "colab": {
          "base_uri": "https://localhost:8080/"
        },
        "id": "gMbVMIu2NAMS",
        "outputId": "1b7088ee-11a8-4311-8759-5a8e84988dab"
      },
      "execution_count": null,
      "outputs": [
        {
          "output_type": "stream",
          "name": "stdout",
          "text": [
            "The slowest run took 6.78 times longer than the fastest. This could mean that an intermediate result is being cached.\n",
            "64.7 µs ± 48.1 µs per loop (mean ± std. dev. of 2 runs, 10 loops each)\n"
          ]
        }
      ]
    },
    {
      "cell_type": "code",
      "source": [
        "# Using %timeit in line magic mode\n",
        "# line magic (%timeit)\n",
        "\n",
        "# single line of code\n",
        "%timeit nums = [x for x in range(10)]"
      ],
      "metadata": {
        "colab": {
          "base_uri": "https://localhost:8080/"
        },
        "id": "ox-lu7tMNX0H",
        "outputId": "c609840e-8de1-445b-a4d0-5d53c07e7111"
      },
      "execution_count": null,
      "outputs": [
        {
          "output_type": "stream",
          "name": "stdout",
          "text": [
            "926 ns ± 320 ns per loop (mean ± std. dev. of 7 runs, 1000000 loops each)\n"
          ]
        }
      ]
    },
    {
      "cell_type": "code",
      "source": [
        "# Using %timeit in cell magic mode\n",
        "# cell magic (%%timeit)\n",
        "\n",
        "# multiple lines of code\n",
        "%%timeit\n",
        "nums = []\n",
        "for x in range(10):\n",
        "  nums.append(x)"
      ],
      "metadata": {
        "colab": {
          "base_uri": "https://localhost:8080/"
        },
        "id": "ZW5PwVaUNquy",
        "outputId": "1f7d7300-9918-444c-ab7a-b3df1d2f1ce3"
      },
      "execution_count": null,
      "outputs": [
        {
          "output_type": "stream",
          "name": "stdout",
          "text": [
            "1.75 µs ± 98.7 ns per loop (mean ± std. dev. of 7 runs, 100000 loops each)\n"
          ]
        }
      ]
    },
    {
      "cell_type": "code",
      "source": [
        "# Saving output\n",
        "# Saving the output to a variable (-o)\n",
        "\n",
        "times = %timeit -o rand_nums = np.random.rand(1000)"
      ],
      "metadata": {
        "colab": {
          "base_uri": "https://localhost:8080/"
        },
        "id": "SPh_qQgqN8z4",
        "outputId": "363c8e1e-188d-4083-e79f-31e569b3b0c7"
      },
      "execution_count": null,
      "outputs": [
        {
          "output_type": "stream",
          "name": "stdout",
          "text": [
            "9.56 µs ± 68.8 ns per loop (mean ± std. dev. of 7 runs, 100000 loops each)\n"
          ]
        }
      ]
    },
    {
      "cell_type": "code",
      "source": [
        "# We can identify more\n",
        "times.timings"
      ],
      "metadata": {
        "colab": {
          "base_uri": "https://localhost:8080/"
        },
        "id": "dQ9DyjqBOJ7X",
        "outputId": "5167c275-d0f0-45bf-9d28-c6f14ae2bc9f"
      },
      "execution_count": null,
      "outputs": [
        {
          "output_type": "execute_result",
          "data": {
            "text/plain": [
              "[9.606058449999182e-06,\n",
              " 9.682676109996465e-06,\n",
              " 9.562995670003147e-06,\n",
              " 9.573142919998645e-06,\n",
              " 9.555966589996388e-06,\n",
              " 9.524797049998597e-06,\n",
              " 9.439050000000861e-06]"
            ]
          },
          "metadata": {},
          "execution_count": 71
        }
      ]
    },
    {
      "cell_type": "code",
      "source": [
        "times.best"
      ],
      "metadata": {
        "colab": {
          "base_uri": "https://localhost:8080/"
        },
        "id": "i6L5kB_6OOaM",
        "outputId": "73dc060d-084a-49b7-90bb-4bc48adb567c"
      },
      "execution_count": null,
      "outputs": [
        {
          "output_type": "execute_result",
          "data": {
            "text/plain": [
              "9.439050000000861e-06"
            ]
          },
          "metadata": {},
          "execution_count": 72
        }
      ]
    },
    {
      "cell_type": "code",
      "source": [
        "times.worst"
      ],
      "metadata": {
        "colab": {
          "base_uri": "https://localhost:8080/"
        },
        "id": "IOCGL7f-OP7m",
        "outputId": "7f3846a9-bb1a-4891-d4ee-df5b18b8ac45"
      },
      "execution_count": null,
      "outputs": [
        {
          "output_type": "execute_result",
          "data": {
            "text/plain": [
              "9.682676109996465e-06"
            ]
          },
          "metadata": {},
          "execution_count": 73
        }
      ]
    },
    {
      "cell_type": "markdown",
      "source": [
        "## Let's try using %timeit with some of Python's built-in data structures\n",
        "\n",
        "Comparing times Python data structures can be created using for name\n",
        "```\n",
        "formal_list = list()\n",
        "formal_dict = dict()\n",
        "formal_tuple = tuple()\n",
        "```\n",
        "\n",
        "Python data structures can be created using literal syntax\n",
        "```\n",
        "literal_list = []\n",
        "literal_dict = {}\n",
        "literal_tuple = ()\n",
        "```"
      ],
      "metadata": {
        "id": "P48mbZ57OeLq"
      }
    },
    {
      "cell_type": "code",
      "source": [
        "# If we wanted to compare the runtime between creating a dict using the formal name and creating using the literal syntax\n",
        "f_time = %timeit -o formal_dict = dict()\n",
        "l_time = %timeit -o literal_dict = {}\n",
        "\n",
        "diff = (f_time.average - l_time.average) * (10**9)\n",
        "print('l_time better that f_time by {} ns'.format(diff))"
      ],
      "metadata": {
        "colab": {
          "base_uri": "https://localhost:8080/"
        },
        "id": "31qvQVyrPFD7",
        "outputId": "7b390187-db06-4348-b5ba-d73676652e90"
      },
      "execution_count": null,
      "outputs": [
        {
          "output_type": "stream",
          "name": "stdout",
          "text": [
            "129 ns ± 49.1 ns per loop (mean ± std. dev. of 7 runs, 1000000 loops each)\n",
            "57.7 ns ± 18.6 ns per loop (mean ± std. dev. of 7 runs, 10000000 loops each)\n",
            "l_time better that f_time by 71.32582678553133 ns\n"
          ]
        }
      ]
    },
    {
      "cell_type": "code",
      "source": [
        "# Exercise 1\n",
        "# compare the runtimes for creating a list of integers from 0 to 50 using list comprehension vs. unpacking the range object.\n",
        "%timeit nums_list_comp = [num for num in range(51)]\n",
        "%timeit nums_unpack = [*range(51)]"
      ],
      "metadata": {
        "colab": {
          "base_uri": "https://localhost:8080/"
        },
        "id": "jDR8OT-cPE-1",
        "outputId": "5cbd1823-b228-4478-92d7-dc5ddf39c463"
      },
      "execution_count": null,
      "outputs": [
        {
          "output_type": "stream",
          "name": "stdout",
          "text": [
            "2.17 µs ± 537 ns per loop (mean ± std. dev. of 7 runs, 1000000 loops each)\n",
            "589 ns ± 153 ns per loop (mean ± std. dev. of 7 runs, 1000000 loops each)\n"
          ]
        }
      ]
    },
    {
      "cell_type": "markdown",
      "source": [
        "## Code profiling for runtime\n",
        "Code profiling allows us to analyze code more efficiently\n",
        "- Detailed stats on frequency and duration of function calls\n",
        "- Line-by-line analyses\n",
        "- Package used: ```line_profiler```\n",
        "\n",
        "```\n",
        "pip install line_profiler\n",
        "```"
      ],
      "metadata": {
        "id": "pn7kAqkoTwUH"
      }
    },
    {
      "cell_type": "code",
      "source": [
        "pip install line_profiler"
      ],
      "metadata": {
        "colab": {
          "base_uri": "https://localhost:8080/"
        },
        "id": "KPydRrQtUaaM",
        "outputId": "91431fe2-f9fd-4a67-88eb-3ad16f73fae5"
      },
      "execution_count": null,
      "outputs": [
        {
          "output_type": "stream",
          "name": "stdout",
          "text": [
            "Collecting line_profiler\n",
            "  Downloading line_profiler-4.1.2-cp310-cp310-manylinux_2_17_x86_64.manylinux2014_x86_64.whl (714 kB)\n",
            "\u001b[?25l     \u001b[90m━━━━━━━━━━━━━━━━━━━━━━━━━━━━━━━━━━━━━━━━\u001b[0m \u001b[32m0.0/714.8 kB\u001b[0m \u001b[31m?\u001b[0m eta \u001b[36m-:--:--\u001b[0m\r\u001b[2K     \u001b[91m━━━━━━━━━━\u001b[0m\u001b[91m╸\u001b[0m\u001b[90m━━━━━━━━━━━━━━━━━━━━━━━━━━━━━\u001b[0m \u001b[32m194.6/714.8 kB\u001b[0m \u001b[31m5.6 MB/s\u001b[0m eta \u001b[36m0:00:01\u001b[0m\r\u001b[2K     \u001b[91m━━━━━━━━━━━━━━━━━━━━━━━━━━━━━━━━━━━━\u001b[0m\u001b[91m╸\u001b[0m\u001b[90m━━━\u001b[0m \u001b[32m655.4/714.8 kB\u001b[0m \u001b[31m9.3 MB/s\u001b[0m eta \u001b[36m0:00:01\u001b[0m\r\u001b[2K     \u001b[90m━━━━━━━━━━━━━━━━━━━━━━━━━━━━━━━━━━━━━━━━\u001b[0m \u001b[32m714.8/714.8 kB\u001b[0m \u001b[31m8.6 MB/s\u001b[0m eta \u001b[36m0:00:00\u001b[0m\n",
            "\u001b[?25hInstalling collected packages: line_profiler\n",
            "Successfully installed line_profiler-4.1.2\n"
          ]
        }
      ]
    },
    {
      "cell_type": "code",
      "source": [
        "heroes = ['Batman', 'Superman', 'Wonder Woman']\n",
        "\n",
        "hts = np.array([188.0, 191.0, 183.0])\n",
        "wts = np.array([95.0, 101.0, 74.0])\n",
        "\n",
        "def convert_unit(heroes, heights, weights):\n",
        "  new_hts = [ht * 0.39370 for ht in heights]\n",
        "  new_wts = [wt * 2.20462 for wt in weights]\n",
        "  hero_data = {}\n",
        "\n",
        "  for i, hero in enumerate(heroes):\n",
        "    hero_data[hero] = (new_hts[i], new_wts[i])\n",
        "  return hero_data\n",
        "\n",
        "convert_unit(heroes, hts, wts)"
      ],
      "metadata": {
        "colab": {
          "base_uri": "https://localhost:8080/"
        },
        "id": "m0rfmCkqUa1A",
        "outputId": "1e8fbcf9-cf2e-4821-fbc5-5573c5020b37"
      },
      "execution_count": null,
      "outputs": [
        {
          "output_type": "execute_result",
          "data": {
            "text/plain": [
              "{'Batman': (74.01559999999999, 209.4389),\n",
              " 'Superman': (75.19669999999999, 222.66661999999997),\n",
              " 'Wonder Woman': (72.0471, 163.14188)}"
            ]
          },
          "metadata": {},
          "execution_count": 77
        }
      ]
    },
    {
      "cell_type": "code",
      "source": [
        "%timeit new_hts = [ht * 0.39370 for ht in hts]"
      ],
      "metadata": {
        "colab": {
          "base_uri": "https://localhost:8080/"
        },
        "id": "TjoQSPYtVVLq",
        "outputId": "2fb0c96c-1c16-4976-db0c-b73d24670816"
      },
      "execution_count": null,
      "outputs": [
        {
          "output_type": "stream",
          "name": "stdout",
          "text": [
            "1.92 µs ± 494 ns per loop (mean ± std. dev. of 7 runs, 1000000 loops each)\n"
          ]
        }
      ]
    },
    {
      "cell_type": "code",
      "source": [
        "%timeit new_wts = [wt * 2.20462 for wt in wts]"
      ],
      "metadata": {
        "colab": {
          "base_uri": "https://localhost:8080/"
        },
        "id": "dLbofGU9VVna",
        "outputId": "6544221a-4606-4b87-b30d-8564633c9d45"
      },
      "execution_count": null,
      "outputs": [
        {
          "output_type": "stream",
          "name": "stdout",
          "text": [
            "1.92 µs ± 539 ns per loop (mean ± std. dev. of 7 runs, 1000000 loops each)\n"
          ]
        }
      ]
    },
    {
      "cell_type": "code",
      "source": [
        "# Using line_profiler package\n",
        "# First load it into the session.\n",
        "\n",
        "%load_ext line_profiler\n",
        "\n",
        "# magic command for line-by-line times\n",
        "%lprun -f convert_unit convert_unit(heroes, hts, wts)"
      ],
      "metadata": {
        "colab": {
          "base_uri": "https://localhost:8080/"
        },
        "id": "UmJv-RPsWAOq",
        "outputId": "d45a9f6e-2e2f-45ea-8610-3834cd795793"
      },
      "execution_count": null,
      "outputs": [
        {
          "output_type": "stream",
          "name": "stdout",
          "text": [
            "The line_profiler extension is already loaded. To reload it, use:\n",
            "  %reload_ext line_profiler\n"
          ]
        }
      ]
    },
    {
      "cell_type": "code",
      "source": [
        "heroes = ['Batman', 'Superman', 'Wonder Woman']\n",
        "\n",
        "heights = np.array([188.0, 191.0, 183.0])\n",
        "weights = np.array([95.0, 101.0, 74.0])\n",
        "\n",
        "def convert_units_broadcast(heroes, heights, weights):\n",
        "\n",
        "  # Array broadcasting instead of list comprehension\n",
        "  new_hts = heights * 0.39370\n",
        "  new_wts = weights * 2.20462\n",
        "\n",
        "  hero_data = {}\n",
        "\n",
        "  for i,hero in enumerate(heroes):\n",
        "    hero_data[hero] = (new_hts[i], new_wts[i])\n",
        "\n",
        "  return hero_data\n",
        "convert_units_broadcast(heroes, heights, weights)"
      ],
      "metadata": {
        "colab": {
          "base_uri": "https://localhost:8080/"
        },
        "id": "TDd7lPcgX5to",
        "outputId": "e3aeb5ce-19de-4700-ee6a-4a7d0453fd09"
      },
      "execution_count": null,
      "outputs": [
        {
          "output_type": "execute_result",
          "data": {
            "text/plain": [
              "{'Batman': (74.01559999999999, 209.4389),\n",
              " 'Superman': (75.19669999999999, 222.66661999999997),\n",
              " 'Wonder Woman': (72.0471, 163.14188)}"
            ]
          },
          "metadata": {},
          "execution_count": 92
        }
      ]
    },
    {
      "cell_type": "code",
      "source": [
        "%lprun -f convert_units_broadcast convert_units_broadcast(heroes, heights, weights)"
      ],
      "metadata": {
        "id": "tGkb5-fZX8J0"
      },
      "execution_count": null,
      "outputs": []
    },
    {
      "cell_type": "markdown",
      "source": [
        "## Code profiling for memory usage\n",
        "\n",
        "Quick and dirty approach is using ```sys```\n",
        "\n",
        "```\n",
        "import sys\n",
        "```\n",
        "\n",
        "sys.getsizeof() is a quick and dirty way to see the size of an object\n",
        "\n",
        "```\n",
        "import sys\n",
        "\n",
        "nums_list = [*range(1000)]\n",
        "sys.getsizeof(nums_list)\n",
        "```\n",
        "\n",
        "Code profiling: memory\n",
        "- Detailed stats on memory consumption\n",
        "- Line-by-line analyses\n",
        "- Package used: ```memory_profiler```\n",
        "\n",
        "```\n",
        "pip install memory_profiler\n",
        "```\n",
        "\n",
        "- using ```memory_profiler``` package\n",
        "\n",
        "```\n",
        "%load_ext memory_profiler\n",
        "%mprun -f convert_units convert_units(heroes, hts, wtf)\n",
        "```\n",
        "\n",
        "- Functions must be imported when using ```memory_profiler```\n",
        "  - Let's say convert_units function was placed in a file named hero_funcs.py\n",
        "\n",
        "```\n",
        "from hero_funcs import convert_units\n",
        "\n",
        "%load_ext memory_profiler\n",
        "%mprun -f convert_units convert_units(heroes, hts, wts)\n",
        "```\n",
        "\n",
        "%mprun output caveats\n",
        "- Inspects memory by querying the OS\n",
        "- Results may differ between platforms and runs\n",
        "  - Can still observe how each line of code compares to others based on memory consumption."
      ],
      "metadata": {
        "id": "1_AO2Y2_Yga4"
      }
    },
    {
      "cell_type": "code",
      "source": [
        "import sys\n",
        "nums_list = [*range(1000)]\n",
        "sys.getsizeof(nums_list)"
      ],
      "metadata": {
        "colab": {
          "base_uri": "https://localhost:8080/"
        },
        "id": "XTMHIKtJYtWX",
        "outputId": "74811fb1-5545-4796-d37d-981a3de6de5f"
      },
      "execution_count": null,
      "outputs": [
        {
          "output_type": "execute_result",
          "data": {
            "text/plain": [
              "8056"
            ]
          },
          "metadata": {},
          "execution_count": 94
        }
      ]
    },
    {
      "cell_type": "code",
      "source": [
        "import numpy as np\n",
        "nums_np = np.array(range(1000))\n",
        "sys.getsizeof(nums_np)"
      ],
      "metadata": {
        "colab": {
          "base_uri": "https://localhost:8080/"
        },
        "id": "m-khGBoxY2C1",
        "outputId": "4c3d27e1-dfec-42dd-d88c-4dd175192878"
      },
      "execution_count": null,
      "outputs": [
        {
          "output_type": "execute_result",
          "data": {
            "text/plain": [
              "8112"
            ]
          },
          "metadata": {},
          "execution_count": 96
        }
      ]
    },
    {
      "cell_type": "code",
      "source": [
        "pip install memory_profiler"
      ],
      "metadata": {
        "colab": {
          "base_uri": "https://localhost:8080/"
        },
        "id": "pfLqAJy2ZrbG",
        "outputId": "fb517f84-ab1d-43e4-a079-f9009f1de829"
      },
      "execution_count": null,
      "outputs": [
        {
          "output_type": "stream",
          "name": "stdout",
          "text": [
            "Collecting memory_profiler\n",
            "  Downloading memory_profiler-0.61.0-py3-none-any.whl (31 kB)\n",
            "Requirement already satisfied: psutil in /usr/local/lib/python3.10/dist-packages (from memory_profiler) (5.9.5)\n",
            "Installing collected packages: memory_profiler\n",
            "Successfully installed memory_profiler-0.61.0\n"
          ]
        }
      ]
    },
    {
      "cell_type": "code",
      "source": [
        "%load_ext memory_profiler\n",
        "%mprun -f convert_unit convert_unit(heroes, hts, wts)"
      ],
      "metadata": {
        "colab": {
          "base_uri": "https://localhost:8080/"
        },
        "id": "p3w9tDFuaOGF",
        "outputId": "e6b689ea-a977-4096-d2cb-6f95d92dbf6e"
      },
      "execution_count": null,
      "outputs": [
        {
          "output_type": "stream",
          "name": "stdout",
          "text": [
            "The memory_profiler extension is already loaded. To reload it, use:\n",
            "  %reload_ext memory_profiler\n",
            "ERROR: Could not find file <ipython-input-100-3aab3182610d>\n",
            "NOTE: %mprun can only be used on functions defined in physical files, and not in the IPython environment.\n",
            "\n"
          ]
        }
      ]
    },
    {
      "cell_type": "markdown",
      "source": [
        "## Efficiently combining, counting, and iterating"
      ],
      "metadata": {
        "id": "13Db2hj0WUiD"
      }
    },
    {
      "cell_type": "code",
      "source": [
        "# Combining objects\n",
        "\n",
        "names = ['Bulbasaur', 'Charmander', 'Squirtle']\n",
        "hps = [45, 39, 44]\n",
        "\n",
        "combined = []\n",
        "for i, pokemon in enumerate(names):\n",
        "  combined.append((pokemon, hps[i]))\n",
        "\n",
        "print(combined)"
      ],
      "metadata": {
        "colab": {
          "base_uri": "https://localhost:8080/"
        },
        "id": "ZV9qPxGtWuTT",
        "outputId": "133a21af-d52a-4f56-ab42-1a63aed2c2c6"
      },
      "execution_count": 1,
      "outputs": [
        {
          "output_type": "stream",
          "name": "stdout",
          "text": [
            "[('Bulbasaur', 45), ('Charmander', 39), ('Squirtle', 44)]\n"
          ]
        }
      ]
    },
    {
      "cell_type": "code",
      "source": [
        "# Combining objects with zip\n",
        "# The name \"zip\" describes how this function combine objects like a zipper. (making 2 separate things become 1)\n",
        "\n",
        "names = ['Bulbasaur', 'Charmander', 'Squirtle']\n",
        "hps = [45, 39, 44]\n",
        "\n",
        "combined_zip = zip(names, hps)\n",
        "print(type(combined_zip))\n",
        "\n",
        "combined_zip_list = [*combined_zip]\n",
        "print(combined_zip_list)"
      ],
      "metadata": {
        "colab": {
          "base_uri": "https://localhost:8080/"
        },
        "id": "3wjVZdpiXJ2m",
        "outputId": "8569f7c3-78f5-4d6f-eb41-af4ce64e1f04"
      },
      "execution_count": 7,
      "outputs": [
        {
          "output_type": "stream",
          "name": "stdout",
          "text": [
            "<class 'zip'>\n",
            "[('Bulbasaur', 45), ('Charmander', 39), ('Squirtle', 44)]\n"
          ]
        }
      ]
    },
    {
      "cell_type": "markdown",
      "source": [
        "### The collections module\n",
        "- Part of Python's standard library (built-in module)\n",
        "- Specialized container datatypes\n",
        "  - Alternatives to general purpose dict, list, set, and tuple\n",
        "- Notable:\n",
        "  - namedtuple: tuple subclasses with named fields\n",
        "  - deque: list-like container with fast appends and pops.\n",
        "  - Counter: dict for counting hashable objects.\n",
        "  - OrderedDict: dict that retains order of entries.\n",
        "  - defaultdict: dict that calls a factory function to supple missing values.\n",
        "\n",
        "### Counting with loop\n",
        "```\n",
        "# Each Pokemon's type (720 Total)\n",
        "poke_types = ['Grass', 'Dark', 'Fire', 'Fire', ...]\n",
        "type_count = {}\n",
        "for poke_type in poke_types:\n",
        "  if poke_type not in type_count:\n",
        "    type_counts[poke_type] = 1\n",
        "  else:\n",
        "    type_counts[poke_type] += 1\n",
        "print(type_counts)\n",
        "```\n",
        "\n",
        "### Using collections.Counter() is more efficient approach\n",
        "```\n",
        "# Each Pokemon's type (720 Total)\n",
        "poke_types = ['Grass', 'Dark', 'Fire', 'Fire', ...]\n",
        "from collections from Counter\n",
        "type_counts = Counter(poke_types)\n",
        "print(type_counts)\n",
        "\n",
        "## output is the same as above code\n",
        "```\n",
        "\n",
        "### The itertools module\n",
        "- Part of Python's standard library (built-in module)\n",
        "- Functional tools for creating and using iterators.\n",
        "- Notable:\n",
        "  - Infinite iterators: count, cycle, repeat\n",
        "  - Finite iterators: accumulate, chain, zip_longest, ect.\n",
        "  - Combination generators: product, permutations, combinations"
      ],
      "metadata": {
        "id": "FetqvItVYaln"
      }
    },
    {
      "cell_type": "code",
      "source": [
        "# Combinations with loop\n",
        "# Nested for loop that iterates the poke_types list twice.\n",
        "\n",
        "poke_types = ['Bug', 'Fire', 'Grass', 'Water', 'Ghost']\n",
        "combos = []\n",
        "\n",
        "for x in poke_types:\n",
        "  for y in poke_types:\n",
        "    if x == y:\n",
        "      continue\n",
        "    if ((x, y) not in combos) & ((y, x) not in combos):\n",
        "      combos.append((x, y))\n",
        "print(combos)\n",
        "\n",
        "# We want one of these pair not both."
      ],
      "metadata": {
        "colab": {
          "base_uri": "https://localhost:8080/"
        },
        "id": "fIjznxWWaNZo",
        "outputId": "a744b3ae-a321-44e2-d855-3af792265f29"
      },
      "execution_count": 8,
      "outputs": [
        {
          "output_type": "stream",
          "name": "stdout",
          "text": [
            "[('Bug', 'Fire'), ('Bug', 'Grass'), ('Bug', 'Water'), ('Bug', 'Ghost'), ('Fire', 'Grass'), ('Fire', 'Water'), ('Fire', 'Ghost'), ('Grass', 'Water'), ('Grass', 'Ghost'), ('Water', 'Ghost')]\n"
          ]
        }
      ]
    },
    {
      "cell_type": "code",
      "source": [
        "# itertools.combinations()\n",
        "poke_types = ['Bug', 'Fire', 'Grass', 'Water', 'Ghost']\n",
        "\n",
        "from itertools import combinations\n",
        "\n",
        "combos_obj = combinations(poke_types, 2)\n",
        "print(type(combos_obj))\n",
        "\n",
        "combos = [*combos_obj]\n",
        "print(combos)"
      ],
      "metadata": {
        "colab": {
          "base_uri": "https://localhost:8080/"
        },
        "id": "zfEUHbfmbGgv",
        "outputId": "cb9d16b1-6941-48a8-f7a2-8ee5b492e49a"
      },
      "execution_count": 10,
      "outputs": [
        {
          "output_type": "stream",
          "name": "stdout",
          "text": [
            "<class 'itertools.combinations'>\n",
            "[('Bug', 'Fire'), ('Bug', 'Grass'), ('Bug', 'Water'), ('Bug', 'Ghost'), ('Fire', 'Grass'), ('Fire', 'Water'), ('Fire', 'Ghost'), ('Grass', 'Water'), ('Grass', 'Ghost'), ('Water', 'Ghost')]\n"
          ]
        }
      ]
    },
    {
      "cell_type": "markdown",
      "source": [
        "### Exercise 1\n",
        "1\n",
        "```\n",
        "# Combine names and primary_types\n",
        "names_type1 = [*zip(names, primary_types)]\n",
        "\n",
        "print(*names_type1[:5], sep='\\n')\n",
        "```\n",
        "2\n",
        "```\n",
        "# Combine all three lists together\n",
        "names_types = [*zip(names, primary_types, secondary_types)]\n",
        "\n",
        "print(*names_types[:5], sep='\\n')\n",
        "```\n",
        "3\n",
        "```\n",
        "# Combine five items from names and three items from primary_types\n",
        "differing_lengths = [*zip(names[:5], primary_types[:3])]\n",
        "\n",
        "print(*differing_lengths, sep='\\n')\n",
        "```\n",
        "\n",
        "### Exercise 2\n",
        "1\n",
        "```\n",
        "# Collect the count of primary types\n",
        "type_count = Counter(primary_types)\n",
        "print(type_count, '\\n')\n",
        "\n",
        "# Collect the count of generations\n",
        "gen_count = Counter(generations)\n",
        "print(gen_count, '\\n')\n",
        "\n",
        "# Use list comprehension to get each Pokémon's starting letter\n",
        "starting_letters = [name[0] for name in names]\n",
        "\n",
        "# Collect the count of Pokémon for each starting_letter\n",
        "starting_letters_count = Counter(starting_letters)\n",
        "print(starting_letters_count)\n",
        "```\n",
        "2\n",
        "```\n",
        "# Import combinations from itertools\n",
        "from itertools import combinations\n",
        "\n",
        "# Create a combination object with pairs of Pokémon\n",
        "combos_obj = combinations(pokemon, 2)\n",
        "print(type(combos_obj), '\\n')\n",
        "\n",
        "# Convert combos_obj to a list by unpacking\n",
        "combos_2 = [*combos_obj]\n",
        "print(combos_2, '\\n')\n",
        "\n",
        "# Collect all possible combinations of 4 Pokémon directly into a list\n",
        "combos_4 = combinations(pokemon, 4)\n",
        "print([*combos_4])\n",
        "```"
      ],
      "metadata": {
        "id": "xkqMxVKGbjXK"
      }
    },
    {
      "cell_type": "markdown",
      "source": [
        "## Set theory\n",
        "\n",
        "- Branch of mathematics applied to collections of objects\n",
        "  - i.e., sets\n",
        "- Python has built-in set datatype with accompanying methods:\n",
        "  - intersections(): all elements that are in both sets\n",
        "  - difference(): all elements in one set but not the other\n",
        "  - symmetric_difference(): all elements in exactly one set\n",
        "  - union(): all elements that are in either set\n",
        "- Fast membership testing\n",
        "  - Check if a value exists in a sequence or not\n",
        "  - Using the in operator\n",
        "\n",
        "```\n",
        "# 720 Pokemon primary types corresponding to each Pokemon\n",
        "primary_types = ['Grass', 'Psychic', 'Dark', 'Bug']\n",
        "\n",
        "unique_types = []\n",
        "\n",
        "for prim_type in primary_types:\n",
        "  if prim_type not in unique_types:\n",
        "    unique_types.append(prim_type)\n",
        "print(unique_types)\n",
        "```\n",
        "\n",
        "```\n",
        "# Better way\n",
        "# 720 Pokemon primary types corresponding to each Pokemon\n",
        "primary_types = ['Grass', 'Psychic', 'Dark', 'Bug']\n",
        "unique_types_set = set(primary_types)\n",
        "print(unique_types_set)\n",
        "```"
      ],
      "metadata": {
        "id": "2O14r76adi5k"
      }
    },
    {
      "cell_type": "code",
      "source": [
        "list_a = ['Bulbasaur', 'Charmander', 'Squirtle']\n",
        "list_b = ['Caterpie', 'Pidgey', 'Squirtle']\n",
        "\n",
        "in_common = []\n",
        "\n",
        "for pokemon_a in list_a:\n",
        "  for pokemon_b in list_b:\n",
        "    if pokemon_a == pokemon_b:\n",
        "      in_common.append(pokemon_a)\n",
        "\n",
        "print(in_common)"
      ],
      "metadata": {
        "colab": {
          "base_uri": "https://localhost:8080/"
        },
        "id": "lrkV2hYiez-g",
        "outputId": "0de6b148-75d5-4a15-8a6d-0f19df0bd3c8"
      },
      "execution_count": 11,
      "outputs": [
        {
          "output_type": "stream",
          "name": "stdout",
          "text": [
            "['Squirtle']\n"
          ]
        }
      ]
    },
    {
      "cell_type": "code",
      "source": [
        "list_a = ['Bulbasaur', 'Charmander', 'Squirtle']\n",
        "list_b = ['Caterpie', 'Pidgey', 'Squirtle']\n",
        "\n",
        "set_a = set(list_a)\n",
        "print(set_a)\n",
        "\n",
        "set_b = set(list_b)\n",
        "print(set_b)\n",
        "\n",
        "set_a.intersection(set_b)"
      ],
      "metadata": {
        "colab": {
          "base_uri": "https://localhost:8080/"
        },
        "id": "TlAUrdyEfFwZ",
        "outputId": "a4e14218-e892-496a-fd92-928fe6770d80"
      },
      "execution_count": 13,
      "outputs": [
        {
          "output_type": "stream",
          "name": "stdout",
          "text": [
            "{'Charmander', 'Squirtle', 'Bulbasaur'}\n",
            "{'Caterpie', 'Squirtle', 'Pidgey'}\n"
          ]
        },
        {
          "output_type": "execute_result",
          "data": {
            "text/plain": [
              "{'Squirtle'}"
            ]
          },
          "metadata": {},
          "execution_count": 13
        }
      ]
    },
    {
      "cell_type": "code",
      "source": [
        "set_a.difference(set_b)"
      ],
      "metadata": {
        "colab": {
          "base_uri": "https://localhost:8080/"
        },
        "id": "zGYsBwB8fscA",
        "outputId": "a22c9044-ad81-4d0c-f902-7049def7a29b"
      },
      "execution_count": 15,
      "outputs": [
        {
          "output_type": "execute_result",
          "data": {
            "text/plain": [
              "{'Bulbasaur', 'Charmander'}"
            ]
          },
          "metadata": {},
          "execution_count": 15
        }
      ]
    },
    {
      "cell_type": "code",
      "source": [
        "set_b.intersection(set_a)"
      ],
      "metadata": {
        "colab": {
          "base_uri": "https://localhost:8080/"
        },
        "id": "NHiR8jKNfwc9",
        "outputId": "4e40a108-8ee5-4ea1-c8bb-fed3c21fe2d0"
      },
      "execution_count": 16,
      "outputs": [
        {
          "output_type": "execute_result",
          "data": {
            "text/plain": [
              "{'Squirtle'}"
            ]
          },
          "metadata": {},
          "execution_count": 16
        }
      ]
    },
    {
      "cell_type": "code",
      "source": [
        "set_a.symmetric_difference(set_b)"
      ],
      "metadata": {
        "colab": {
          "base_uri": "https://localhost:8080/"
        },
        "id": "asoelVsUf0OT",
        "outputId": "d66c913b-56d1-4eaf-91f2-f78889375e27"
      },
      "execution_count": 17,
      "outputs": [
        {
          "output_type": "execute_result",
          "data": {
            "text/plain": [
              "{'Bulbasaur', 'Caterpie', 'Charmander', 'Pidgey'}"
            ]
          },
          "metadata": {},
          "execution_count": 17
        }
      ]
    },
    {
      "cell_type": "code",
      "source": [
        "set_a.union(set_b)"
      ],
      "metadata": {
        "colab": {
          "base_uri": "https://localhost:8080/"
        },
        "id": "k0mUypk4f3Uu",
        "outputId": "5704cfa3-ca22-4d4f-ceb8-c97a1b4c7f4b"
      },
      "execution_count": 18,
      "outputs": [
        {
          "output_type": "execute_result",
          "data": {
            "text/plain": [
              "{'Bulbasaur', 'Caterpie', 'Charmander', 'Pidgey', 'Squirtle'}"
            ]
          },
          "metadata": {},
          "execution_count": 18
        }
      ]
    },
    {
      "cell_type": "code",
      "source": [
        "# Exercise 1\n",
        "ash_pokedex = ['Pikachu', 'Bulbasaur', 'Koffing', 'Spearow', 'Vulpix', 'Wigglytuff', 'Zubat', 'Rattata', 'Psyduck', 'Squirtle']\n",
        "\n",
        "misty_pokedex = ['Krabby', 'Horsea', 'Slowbro', 'Tentacool', 'Vaporeon', 'Magikarp', 'Poliwag', 'Starmie', 'Psyduck', 'Squirtle']\n",
        "\n",
        "# Convert both lists to sets\n",
        "ash_set = set(ash_pokedex)\n",
        "misty_set = set(misty_pokedex)\n",
        "\n",
        "# Find the Pokémon that exist in both sets\n",
        "both = ash_set.intersection(misty_set)\n",
        "print(both)\n",
        "\n",
        "# Find the Pokémon that Ash has and Misty does not have\n",
        "ash_only = ash_set.difference(misty_set)\n",
        "print(ash_only)\n",
        "\n",
        "# Find the Pokémon that are in only one set (not both)\n",
        "unique_to_set = ash_set.symmetric_difference(misty_set)\n",
        "print(unique_to_set)"
      ],
      "metadata": {
        "colab": {
          "base_uri": "https://localhost:8080/"
        },
        "id": "grPQuS67htpQ",
        "outputId": "cad370e2-7400-4764-9dbc-83a293b79ccf"
      },
      "execution_count": 19,
      "outputs": [
        {
          "output_type": "stream",
          "name": "stdout",
          "text": [
            "{'Squirtle', 'Psyduck'}\n",
            "{'Vulpix', 'Zubat', 'Koffing', 'Bulbasaur', 'Rattata', 'Wigglytuff', 'Pikachu', 'Spearow'}\n",
            "{'Vulpix', 'Koffing', 'Starmie', 'Tentacool', 'Zubat', 'Magikarp', 'Bulbasaur', 'Vaporeon', 'Krabby', 'Rattata', 'Slowbro', 'Wigglytuff', 'Horsea', 'Pikachu', 'Spearow', 'Poliwag'}\n"
          ]
        }
      ]
    },
    {
      "cell_type": "code",
      "source": [
        "# Exercise 2\n",
        "brock_pokedex = ['Dugtrio', 'Tauros', 'Kabutops', 'Geodude', 'Omastar', 'Onix', 'Machop', 'Vulpix', 'Golem', 'Zubat']\n",
        "\n",
        "# Convert Brock's Pokédex to a set\n",
        "brock_pokedex_set = set(brock_pokedex)\n",
        "print(brock_pokedex_set)\n",
        "\n",
        "# Convert Brock's Pokédex to a set\n",
        "brock_pokedex_set = set(brock_pokedex)\n",
        "print(brock_pokedex_set)\n",
        "\n",
        "# Check if Psyduck is in Ash's list and Brock's set\n",
        "print('Psyduck' in ash_pokedex)\n",
        "print('Psyduck' in brock_pokedex_set)\n",
        "\n",
        "# Check if Machop is in Ash's list and Brock's set\n",
        "print('Machop' in ash_pokedex)\n",
        "print('Machop' in brock_pokedex_set)"
      ],
      "metadata": {
        "colab": {
          "base_uri": "https://localhost:8080/"
        },
        "id": "4W4OG-Lkh4qH",
        "outputId": "db41d9b1-60ab-49ce-c159-5bc619bcaef8"
      },
      "execution_count": 21,
      "outputs": [
        {
          "output_type": "stream",
          "name": "stdout",
          "text": [
            "{'Vulpix', 'Zubat', 'Dugtrio', 'Onix', 'Tauros', 'Kabutops', 'Golem', 'Geodude', 'Machop', 'Omastar'}\n",
            "{'Vulpix', 'Zubat', 'Dugtrio', 'Onix', 'Tauros', 'Kabutops', 'Golem', 'Geodude', 'Machop', 'Omastar'}\n",
            "True\n",
            "False\n",
            "False\n",
            "True\n"
          ]
        }
      ]
    },
    {
      "cell_type": "markdown",
      "source": [
        "### Exercise 3\n",
        "```\n",
        "# Use find_unique_items() to collect unique Pokémon names\n",
        "uniq_names_func = find_unique_items(names)\n",
        "print(len(uniq_names_func))\n",
        "\n",
        "# Convert the names list to a set to collect unique Pokémon names\n",
        "uniq_names_set = set(names)\n",
        "print(len(uniq_names_set))\n",
        "\n",
        "# Check that both unique collections are equivalent\n",
        "print(sorted(uniq_names_func) == sorted(uniq_names_set))\n",
        "\n",
        "# Use the best approach to collect unique primary types and generations\n",
        "uniq_types = set(primary_types)\n",
        "uniq_gens = set(generations)\n",
        "print(uniq_types, uniq_gens, sep='\\n')\n",
        "```"
      ],
      "metadata": {
        "id": "8IHVQiqUjK6m"
      }
    },
    {
      "cell_type": "markdown",
      "source": [
        "## Eliminating loops\n",
        "### Looping in Python\n",
        "- Looping patterns:\n",
        "  - for loop: iterate over sequence peice-by-peice\n",
        "  - while loop: repeat loop as long as condition is met\n",
        "  - \"nested\" loops: use one loop inside another loop\n",
        "\n",
        "### Benefits of eliminating loops\n",
        "- Fewer lines of code\n",
        "- Better code readability\n",
        "  - \"Flat is better than nested\"\n",
        "- Efficient gains\n",
        "\n",
        "\n",
        "```\n",
        "# List of Pokemon's HP, ATK, DEF, SPD\n",
        "poke_stats = [\n",
        "  [90, 92, 75, 60],\n",
        "  [25, 20, 15, 90],\n",
        "  [65, 130, 60, 75],\n",
        "  ...\n",
        "]\n",
        "\n",
        "# 1. For loop appoarch\n",
        "for row in poke_stats:\n",
        "  totals.append(sum(row))\n",
        "\n",
        "# 2. List comprehension // Fast\n",
        "totals_comp = [sum(row) for row in poke_stats]\n",
        "\n",
        "# 3. Built-in map() // Faster\n",
        "totals_map = [*map(sum, poke_stats)]\n",
        "```"
      ],
      "metadata": {
        "id": "imatumwQjPSE"
      }
    },
    {
      "cell_type": "code",
      "source": [
        "poke_types = ['Bug', 'Fire', 'Grass', 'Water', 'Ghost']\n",
        "\n",
        "# Nested for loop\n",
        "combos = []\n",
        "\n",
        "for x in poke_types:\n",
        "  for y in poke_types:\n",
        "    if x == y:\n",
        "      continue\n",
        "    if ((x, y) not in combos) & ((y, x) not in combos):\n",
        "      combos.append((x, y))\n",
        "print(combos)\n",
        "\n",
        "# Better use this\n",
        "from itertools import combinations\n",
        "combos2 = [*combinations(poke_types, 2)]\n",
        "print(combos2)"
      ],
      "metadata": {
        "colab": {
          "base_uri": "https://localhost:8080/"
        },
        "id": "gVgGhHNvlATU",
        "outputId": "c35898d6-0628-4156-e07b-c7d228f76614"
      },
      "execution_count": 23,
      "outputs": [
        {
          "output_type": "stream",
          "name": "stdout",
          "text": [
            "[('Bug', 'Fire'), ('Bug', 'Grass'), ('Bug', 'Water'), ('Bug', 'Ghost'), ('Fire', 'Grass'), ('Fire', 'Water'), ('Fire', 'Ghost'), ('Grass', 'Water'), ('Grass', 'Ghost'), ('Water', 'Ghost')]\n",
            "[('Bug', 'Fire'), ('Bug', 'Grass'), ('Bug', 'Water'), ('Bug', 'Ghost'), ('Fire', 'Grass'), ('Fire', 'Water'), ('Fire', 'Ghost'), ('Grass', 'Water'), ('Grass', 'Ghost'), ('Water', 'Ghost')]\n"
          ]
        }
      ]
    },
    {
      "cell_type": "markdown",
      "source": [
        "### Eliminate loops with Numpy\n",
        "```\n",
        "# List of Pokemon's HP, ATK, DEF, SPD\n",
        "poke_stats = np.array([\n",
        "  [90, 92, 75, 60],\n",
        "  [25, 20, 15, 90],\n",
        "  [65, 130, 60, 75],\n",
        "  ...\n",
        "])\n",
        "\n",
        "avgs = []\n",
        "for row in poke_stats:\n",
        "  avg = np.mean(row)\n",
        "  avgs.append(avg)\n",
        "print(avgs)\n",
        "\n",
        "# same result but faster using loop\n",
        "avgs_np = poke_stats.mean(axis=1)\n",
        "print(avgs_np)\n",
        "```"
      ],
      "metadata": {
        "id": "OJLEC9TUljso"
      }
    },
    {
      "cell_type": "code",
      "source": [
        "### Exercise 1\n",
        "poke_names = ['Abomasnow', 'Abra', 'Absol', 'Accelgor', 'Aerodactyl', 'Aggron', 'Aipom', 'Alakazam', 'Alomomola', 'Altaria', 'Amaura', 'Ambipom', 'Amoonguss', 'Ampharos', 'Anorith', 'Arbok', 'Arcanine', 'Arceus', 'Archen', 'Archeops', 'Ariados', 'Armaldo', 'Aromatisse', 'Aron', 'Articuno', 'Audino', 'Aurorus', 'Avalugg', 'Axew', 'Azelf', 'Azumarill', 'Azurill', 'Bagon', 'Baltoy', 'Banette', 'Barbaracle', 'Barboach', 'Basculin', 'Bastiodon', 'Bayleef', 'Beartic', 'Beautifly', 'Beedrill', 'Beheeyem', 'Beldum', 'Bellossom', 'Bellsprout', 'Bergmite', 'Bibarel', 'Bidoof', 'Binacle', 'Bisharp', 'Blastoise', 'Blaziken', 'Blissey', 'Blitzle', 'Boldore', 'Bonsly', 'Bouffalant', 'Braixen', 'Braviary', 'Breloom', 'Bronzong', 'Bronzor', 'Budew', 'Buizel', 'Bulbasaur', 'Buneary', 'Bunnelby', 'Burmy', 'Butterfree', 'Cacnea', 'Cacturne', 'Camerupt', 'Carbink', 'Carnivine', 'Carracosta', 'Carvanha', 'Cascoon', 'Castform', 'Caterpie', 'Celebi', 'Chandelure', 'Chansey', 'Charizard', 'Charmander', 'Charmeleon', 'Chatot', 'Cherrim', 'Cherubi', 'Chesnaught', 'Chespin', 'Chikorita', 'Chimchar', 'Chimecho', 'Chinchou', 'Chingling', 'Cinccino', 'Clamperl', 'Clauncher', 'Clawitzer', 'Claydol', 'Clefable', 'Clefairy', 'Cleffa', 'Cloyster', 'Cobalion', 'Cofagrigus', 'Combee', 'Combusken', 'Conkeldurr', 'Corphish', 'Corsola', 'Cottonee', 'Cradily', 'Cranidos', 'Crawdaunt', 'Cresselia', 'Croagunk', 'Crobat', 'Croconaw', 'Crustle', 'Cryogonal', 'Cubchoo', 'Cubone', 'Cyndaquil', 'Darkrai', 'DarmanitanStandard Mode', 'DarmanitanZen Mode', 'Darumaka', 'Dedenne', 'Deerling', 'Deino', 'Delcatty', 'Delibird', 'Delphox', 'Dewgong', 'Dewott', 'Dialga', 'Diancie', 'Diggersby', 'Diglett', 'Ditto', 'Dodrio', 'Doduo', 'Donphan', 'Doublade', 'Dragalge', 'Dragonair', 'Dragonite', 'Drapion', 'Dratini', 'Drifblim', 'Drifloon', 'Drilbur', 'Drowzee', 'Druddigon', 'Ducklett', 'Dugtrio', 'Dunsparce', 'Duosion', 'Durant', 'Dusclops', 'Dusknoir', 'Duskull', 'Dustox', 'Dwebble', 'Eelektrik', 'Eelektross', 'Eevee', 'Ekans', 'Electabuzz', 'Electivire', 'Electrike', 'Electrode', 'Elekid', 'Elgyem', 'Emboar', 'Emolga', 'Empoleon', 'Entei', 'Escavalier', 'Espeon', 'Espurr', 'Excadrill', 'Exeggcute', 'Exeggutor', 'Exploud', \"Farfetch'd\", 'Fearow', 'Feebas', 'Fennekin', 'Feraligatr', 'Ferroseed', 'Ferrothorn', 'Finneon', 'Flaaffy', 'Flabébé', 'Flareon', 'Fletchinder', 'Fletchling', 'Floatzel', 'Floette', 'Florges', 'Flygon', 'Foongus', 'Forretress', 'Fraxure', 'Frillish', 'Froakie', 'Frogadier', 'Froslass', 'Furfrou', 'Furret', 'Gabite', 'Gallade', 'Galvantula', 'Garbodor', 'Garchomp', 'Gardevoir', 'Gastly', 'Gastrodon', 'Genesect', 'Gengar', 'Geodude', 'Gible', 'Gigalith', 'Girafarig', 'Glaceon', 'Glalie', 'Glameow', 'Gligar', 'Gliscor', 'Gloom', 'Gogoat', 'Golbat', 'Goldeen', 'Golduck', 'Golem', 'Golett', 'Golurk', 'Goodra', 'Goomy', 'Gorebyss', 'Gothita', 'Gothitelle', 'Gothorita', 'Granbull', 'Graveler', 'Greninja', 'Grimer', 'Grotle', 'Groudon', 'GroudonPrimal Groudon', 'Grovyle', 'Growlithe', 'Grumpig', 'Gulpin', 'Gurdurr', 'Gyarados', 'Happiny', 'Hariyama', 'Haunter', 'Hawlucha', 'Haxorus', 'Heatmor', 'Heatran', 'Heliolisk', 'Helioptile', 'Heracross', 'Herdier', 'Hippopotas', 'Hippowdon', 'Hitmonchan', 'Hitmonlee', 'Hitmontop', 'Ho-oh', 'Honchkrow', 'Honedge', 'Hoothoot', 'Hoppip', 'Horsea', 'Houndoom', 'Houndour', 'Huntail', 'Hydreigon', 'Hypno', 'Igglybuff', 'Illumise', 'Infernape', 'Inkay', 'Ivysaur', 'Jellicent', 'Jigglypuff', 'Jirachi', 'Jolteon', 'Joltik', 'Jumpluff', 'Jynx', 'Kabuto', 'Kabutops', 'Kadabra', 'Kakuna', 'Kangaskhan', 'Karrablast', 'Kecleon', 'Kingdra', 'Kingler', 'Kirlia', 'Klang', 'Klefki', 'Klink', 'Klinklang', 'Koffing', 'Krabby', 'Kricketot', 'Kricketune', 'Krokorok', 'Krookodile', 'Kyogre', 'KyogrePrimal Kyogre', 'Kyurem', 'KyuremBlack Kyurem', 'KyuremWhite Kyurem', 'Lairon', 'Lampent', 'Lanturn', 'Lapras', 'Larvesta', 'Larvitar', 'Latias', 'Latios', 'Leafeon', 'Leavanny', 'Ledian', 'Ledyba', 'Lickilicky', 'Lickitung', 'Liepard', 'Lileep', 'Lilligant', 'Lillipup', 'Linoone', 'Litleo', 'Litwick', 'Lombre', 'Lopunny', 'Lotad', 'Loudred', 'Lucario', 'Ludicolo', 'Lugia', 'Lumineon', 'Lunatone', 'Luvdisc', 'Luxio', 'Luxray', 'Machamp', 'Machoke', 'Machop', 'Magby', 'Magcargo', 'Magikarp', 'Magmar', 'Magmortar', 'Magnemite', 'Magneton', 'Magnezone', 'Makuhita', 'Malamar', 'Mamoswine', 'Manaphy', 'Mandibuzz', 'Manectric', 'Mankey', 'Mantine', 'Mantyke', 'Maractus', 'Mareep', 'Marill', 'Marowak', 'Marshtomp', 'Masquerain', 'Mawile', 'Medicham', 'Meditite', 'MeowsticFemale', 'MeowsticMale', 'Meowth', 'Mesprit', 'Metagross', 'Metang', 'Metapod', 'Mew', 'Mewtwo', 'Mienfoo', 'Mienshao', 'Mightyena', 'Milotic', 'Miltank', 'Mime Jr.', 'Minccino', 'Minun', 'Misdreavus', 'Mismagius', 'Moltres', 'Monferno', 'Mothim', 'Mr. Mime', 'Mudkip', 'Muk', 'Munchlax', 'Munna', 'Murkrow', 'Musharna', 'Natu', 'Nidoking', 'Nidoqueen', 'Nidoran♀', 'Nidoran♂', 'Nidorina', 'Nidorino', 'Nincada', 'Ninetales', 'Ninjask', 'Noctowl', 'Noibat', 'Noivern', 'Nosepass', 'Numel', 'Nuzleaf', 'Octillery', 'Oddish', 'Omanyte', 'Omastar', 'Onix', 'Oshawott', 'Pachirisu', 'Palkia', 'Palpitoad', 'Pancham', 'Pangoro', 'Panpour', 'Pansage', 'Pansear', 'Paras', 'Parasect', 'Patrat', 'Pawniard', 'Pelipper', 'Persian', 'Petilil', 'Phanpy', 'Phantump', 'Phione', 'Pichu', 'Pidgeot', 'Pidgeotto', 'Pidgey', 'Pidove', 'Pignite', 'Pikachu', 'Piloswine', 'Pineco', 'Pinsir', 'Piplup', 'Plusle', 'Politoed', 'Poliwag', 'Poliwhirl', 'Poliwrath', 'Ponyta', 'Poochyena', 'Porygon', 'Porygon-Z', 'Porygon2', 'Primeape', 'Prinplup', 'Probopass', 'Psyduck', 'Pupitar', 'Purrloin', 'Purugly', 'Pyroar', 'Quagsire', 'Quilava', 'Quilladin', 'Qwilfish', 'Raichu', 'Raikou', 'Ralts', 'Rampardos', 'Rapidash', 'Raticate', 'Rattata', 'Rayquaza', 'Regice', 'Regigigas', 'Regirock', 'Registeel', 'Relicanth', 'Remoraid', 'Reshiram', 'Reuniclus', 'Rhydon', 'Rhyhorn', 'Rhyperior', 'Riolu', 'Roggenrola', 'Roselia', 'Roserade', 'Rotom', 'RotomFan Rotom', 'RotomFrost Rotom', 'RotomHeat Rotom', 'RotomMow Rotom', 'RotomWash Rotom', 'Rufflet', 'Sableye', 'Salamence', 'Samurott', 'Sandile', 'Sandshrew', 'Sandslash', 'Sawk', 'Sawsbuck', 'Scatterbug', 'Sceptile', 'Scizor', 'Scolipede', 'Scrafty', 'Scraggy', 'Scyther', 'Seadra', 'Seaking', 'Sealeo', 'Seedot', 'Seel', 'Seismitoad', 'Sentret', 'Serperior', 'Servine', 'Seviper', 'Sewaddle', 'Sharpedo', 'Shedinja', 'Shelgon', 'Shellder', 'Shellos', 'Shelmet', 'Shieldon', 'Shiftry', 'Shinx', 'Shroomish', 'Shuckle', 'Shuppet', 'Sigilyph', 'Silcoon', 'Simipour', 'Simisage', 'Simisear', 'Skarmory', 'Skiddo', 'Skiploom', 'Skitty', 'Skorupi', 'Skrelp', 'Skuntank', 'Slaking', 'Slakoth', 'Sliggoo', 'Slowbro', 'Slowking', 'Slowpoke', 'Slugma', 'Slurpuff', 'Smeargle', 'Smoochum', 'Sneasel', 'Snivy', 'Snorlax', 'Snorunt', 'Snover', 'Snubbull', 'Solosis', 'Solrock', 'Spearow', 'Spewpa', 'Spheal', 'Spinarak', 'Spinda', 'Spiritomb', 'Spoink', 'Spritzee', 'Squirtle', 'Stantler', 'Staraptor', 'Staravia', 'Starly', 'Starmie', 'Staryu', 'Steelix', 'Stoutland', 'Stunfisk', 'Stunky', 'Sudowoodo', 'Suicune', 'Sunflora', 'Sunkern', 'Surskit', 'Swablu', 'Swadloon', 'Swalot', 'Swampert', 'Swanna', 'Swellow', 'Swinub', 'Swirlix', 'Swoobat', 'Sylveon', 'Taillow', 'Talonflame', 'Tangela', 'Tangrowth', 'Tauros', 'Teddiursa', 'Tentacool', 'Tentacruel', 'Tepig', 'Terrakion', 'Throh', 'Timburr', 'Tirtouga', 'Togekiss', 'Togepi', 'Togetic', 'Torchic', 'Torkoal', 'Torterra', 'Totodile', 'Toxicroak', 'Tranquill', 'Trapinch', 'Treecko', 'Trevenant', 'Tropius', 'Trubbish', 'Turtwig', 'Tympole', 'Tynamo', 'Typhlosion', 'Tyranitar', 'Tyrantrum', 'Tyrogue', 'Tyrunt', 'Umbreon', 'Unfezant', 'Unown', 'Ursaring', 'Uxie', 'Vanillish', 'Vanillite', 'Vanilluxe', 'Vaporeon', 'Venipede', 'Venomoth', 'Venonat', 'Venusaur', 'Vespiquen', 'Vibrava', 'Victini', 'Victreebel', 'Vigoroth', 'Vileplume', 'Virizion', 'Vivillon', 'Volbeat', 'Volcanion', 'Volcarona', 'Voltorb', 'Vullaby', 'Vulpix', 'Wailmer', 'Wailord', 'Walrein', 'Wartortle', 'Watchog', 'Weavile', 'Weedle', 'Weepinbell', 'Weezing', 'Whimsicott', 'Whirlipede', 'Whiscash', 'Whismur', 'Wigglytuff', 'Wingull', 'Wobbuffet', 'Woobat', 'Wooper', 'WormadamPlant Cloak', 'WormadamSandy Cloak', 'WormadamTrash Cloak', 'Wurmple', 'Wynaut', 'Xatu', 'Xerneas', 'Yamask', 'Yanma', 'Yanmega', 'Yveltal', 'Zangoose', 'Zapdos', 'Zebstrika', 'Zekrom', 'Zigzagoon', 'Zoroark', 'Zorua', 'Zubat', 'Zweilous']\n",
        "poke_gens = [4, 1, 3, 5, 1, 3, 2, 1, 5, 3, 6, 4, 5, 2, 3, 1, 1, 4, 5, 5, 2, 3, 6, 3, 1, 5, 6, 6, 5, 4, 2, 3, 3, 3, 3, 6, 3, 5, 4, 2, 5, 3, 1, 5, 3, 2, 1, 6, 4, 4, 6, 5, 1, 3, 2, 5, 5, 4, 5, 6, 5, 3, 4, 4, 4, 4, 1, 4, 6, 4, 1, 3, 3, 3, 6, 4, 5, 3, 3, 3, 1, 2, 5, 1, 1, 1, 1, 4, 4, 4, 6, 6, 2, 4, 3, 2, 4, 5, 3, 6, 6, 3, 1, 1, 2, 1, 5, 5, 4, 3, 5, 3, 2, 5, 3, 4, 3, 4, 4, 2, 2, 5, 5, 5, 1, 2, 4, 5, 5, 5, 6, 5, 5, 3, 2, 6, 1, 5, 4, 6, 6, 1, 1, 1, 1, 2, 6, 6, 1, 1, 4, 1, 4, 4, 5, 1, 5, 5, 1, 2, 5, 5, 3, 4, 3, 3, 5, 5, 5, 1, 1, 1, 4, 3, 1, 2, 5, 5, 5, 4, 2, 5, 2, 6, 5, 1, 1, 3, 1, 1, 3, 6, 2, 5, 5, 4, 2, 6, 1, 6, 6, 4, 6, 6, 3, 5, 2, 5, 5, 6, 6, 4, 6, 2, 4, 4, 5, 5, 4, 3, 1, 4, 5, 1, 1, 4, 5, 2, 4, 3, 4, 2, 4, 1, 6, 1, 1, 1, 1, 5, 5, 6, 6, 3, 5, 5, 5, 2, 1, 6, 1, 4, 3, 3, 3, 1, 3, 3, 5, 1, 4, 3, 1, 6, 5, 5, 4, 6, 6, 2, 5, 4, 4, 1, 1, 2, 2, 4, 6, 2, 2, 1, 2, 2, 3, 5, 1, 2, 3, 4, 6, 1, 5, 1, 3, 1, 5, 2, 1, 1, 1, 1, 1, 1, 5, 3, 2, 1, 3, 5, 6, 5, 5, 1, 1, 4, 4, 5, 5, 3, 3, 5, 5, 5, 3, 5, 2, 1, 5, 2, 3, 3, 4, 5, 2, 2, 4, 1, 5, 3, 5, 5, 3, 6, 5, 3, 4, 3, 3, 4, 3, 2, 4, 3, 3, 4, 4, 1, 1, 1, 2, 2, 1, 1, 4, 1, 1, 4, 3, 6, 4, 4, 5, 3, 1, 2, 4, 5, 2, 2, 1, 3, 3, 3, 3, 3, 6, 6, 1, 4, 3, 3, 1, 1, 1, 5, 5, 3, 3, 2, 4, 5, 3, 2, 4, 1, 4, 4, 1, 3, 1, 4, 5, 2, 5, 2, 1, 1, 1, 1, 1, 1, 3, 1, 3, 2, 6, 6, 3, 3, 3, 2, 1, 1, 1, 1, 5, 4, 4, 5, 6, 6, 5, 5, 5, 1, 1, 5, 5, 3, 1, 5, 2, 6, 4, 2, 1, 1, 1, 5, 5, 1, 2, 2, 1, 4, 3, 2, 1, 1, 1, 1, 3, 1, 4, 2, 1, 4, 4, 1, 2, 5, 4, 6, 2, 2, 6, 2, 1, 2, 3, 4, 1, 1, 1, 3, 3, 4, 3, 3, 3, 2, 5, 5, 1, 1, 4, 4, 5, 3, 4, 4, 4, 4, 4, 4, 4, 5, 3, 3, 5, 5, 1, 1, 5, 5, 6, 3, 2, 5, 5, 5, 1, 1, 1, 3, 3, 1, 5, 2, 5, 5, 3, 5, 3, 3, 3, 1, 4, 5, 4, 3, 4, 3, 2, 3, 5, 3, 5, 5, 5, 2, 6, 2, 3, 4, 6, 4, 3, 3, 6, 1, 2, 1, 2, 6, 2, 2, 2, 5, 1, 3, 4, 2, 5, 3, 1, 6, 3, 2, 3, 4, 3, 6, 1, 2, 4, 4, 4, 1, 1, 2, 5, 5, 4, 2, 2, 2, 2, 3, 3, 5, 3, 3, 5, 3, 2, 6, 5, 6, 3, 6, 1, 4, 1, 2, 1, 1, 5, 5, 5, 5, 5, 4, 2, 2, 3, 3, 4, 2, 4, 5, 3, 3, 6, 3, 5, 4, 5, 5, 2, 2, 6, 2, 6, 2, 5, 2, 2, 4, 5, 5, 5, 1, 5, 1, 1, 1, 4, 3, 5, 1, 3, 1, 5, 6, 3, 6, 5, 1, 5, 1, 3, 3, 3, 1, 5, 4, 1, 1, 1, 5, 5, 3, 3, 1, 3, 2, 5, 2, 4, 4, 4, 3, 3, 2, 6, 5, 2, 4, 6, 3, 1, 5, 5, 3, 5, 5, 1, 5]\n",
        "# Collect Pokémon that belong to generation 1 or generation 2\n",
        "gen1_gen2_pokemon = [name for name,gen in zip(poke_names, poke_gens) if gen < 3]\n",
        "\n",
        "# Create a map object that stores the name lengths\n",
        "name_lengths_map = map(len, gen1_gen2_pokemon)\n",
        "\n",
        "# Combine gen1_gen2_pokemon and name_lengths_map into a list\n",
        "gen1_gen2_name_lengths = [*zip(gen1_gen2_pokemon, name_lengths_map)]\n",
        "\n",
        "print(gen1_gen2_name_lengths[:5])"
      ],
      "metadata": {
        "colab": {
          "base_uri": "https://localhost:8080/"
        },
        "id": "TzT5SEAlnFP2",
        "outputId": "f7446093-e02d-42d5-c197-6799140b0007"
      },
      "execution_count": 25,
      "outputs": [
        {
          "output_type": "stream",
          "name": "stdout",
          "text": [
            "[('Abra', 4), ('Aerodactyl', 10), ('Aipom', 5), ('Alakazam', 8), ('Ampharos', 8)]\n"
          ]
        }
      ]
    },
    {
      "cell_type": "markdown",
      "source": [
        "### Exercise 2\n",
        "```\n",
        "# Create a total stats array\n",
        "total_stats_np = stats.sum(axis=1)\n",
        "\n",
        "# Create an average stats array\n",
        "avg_stats_np = stats.mean(axis=1)\n",
        "\n",
        "# Combine names, total_stats_np, and avg_stats_np into a list\n",
        "poke_list_np = [*zip(names, total_stats_np, avg_stats_np)]\n",
        "\n",
        "print(poke_list_np == poke_list, '\\n')\n",
        "print(poke_list_np[:3])\n",
        "print(poke_list[:3], '\\n')\n",
        "top_3 = sorted(poke_list_np, key=lambda x: x[1], reverse=True)[:3]\n",
        "print('3 strongest Pokémon:\\n{}'.format(top_3))\n",
        "```"
      ],
      "metadata": {
        "id": "358mv8tmoN7g"
      }
    },
    {
      "cell_type": "markdown",
      "source": [
        "## Writing better loops\n",
        "- Understand what is being done with each loop iteration\n",
        "- Move one-time calculation outside (above) the loop\n",
        "- Use holistic conversions outside (below) the loop\n",
        "- Anything that is done once should be outside the loop"
      ],
      "metadata": {
        "id": "3V05ztwLoVVs"
      }
    },
    {
      "cell_type": "code",
      "source": [
        "import numpy as np\n",
        "\n",
        "names = ['Absol', 'Aron', 'Jynx', 'Natu', 'Onix']\n",
        "attacks = np.array([130, 70, 50, 50, 45])\n",
        "# Calculate total avg once (outside the loop)\n",
        "total_attack_avg = attacks.mean()\n",
        "for pokemon, attack in zip(names, attacks):\n",
        "  if attack > total_attack_avg:\n",
        "    print(\"{}'s attacks {} > avg: {}!\"\n",
        "    .format(pokemon, attack, total_attack_avg)\n",
        "    )"
      ],
      "metadata": {
        "colab": {
          "base_uri": "https://localhost:8080/"
        },
        "id": "2fKh2P86o-Dg",
        "outputId": "48b86df5-a3e9-4e3e-94bc-21afb29284b7"
      },
      "execution_count": 26,
      "outputs": [
        {
          "output_type": "stream",
          "name": "stdout",
          "text": [
            "Absol's attacks 130 > avg: 69.0!\n",
            "Aron's attacks 70 > avg: 69.0!\n"
          ]
        }
      ]
    },
    {
      "cell_type": "code",
      "source": [
        "# Using holistic conversions\n",
        "names = ['Pikachu', 'Squirtle', 'Articuno']\n",
        "legend_status = [False, False, True]\n",
        "generations = [1, 1, 1]\n",
        "poke_data_tuples = []\n",
        "for poke_tuple in zip(names, legend_status, generations):\n",
        "  poke_data_tuples.append(poke_tuple)\n",
        "poke_data = [*map(list, poke_data_tuples)]\n",
        "print(poke_data)"
      ],
      "metadata": {
        "colab": {
          "base_uri": "https://localhost:8080/"
        },
        "id": "mB2iumivqXKZ",
        "outputId": "fc707112-31f6-4ca6-d670-242a3bd8ad10"
      },
      "execution_count": 28,
      "outputs": [
        {
          "output_type": "stream",
          "name": "stdout",
          "text": [
            "[['Pikachu', False, 1], ['Squirtle', False, 1], ['Articuno', True, 1]]\n"
          ]
        }
      ]
    },
    {
      "cell_type": "markdown",
      "source": [
        "### Exercise\n",
        "1\n",
        "```\n",
        "# Import Counter\n",
        "from collections import Counter\n",
        "\n",
        "# Collect the count of each generation\n",
        "gen_counts = Counter(generations)\n",
        "\n",
        "# Improve for loop by moving one calculation above the loop\n",
        "total_count = len(generations)\n",
        "\n",
        "for gen,count in gen_counts.items():\n",
        "    gen_percent = round(count / total_count * 100, 2)\n",
        "    print('generation {}: count = {:3} percentage = {}'\n",
        "          .format(gen, count, gen_percent))\n",
        "```\n",
        "2\n",
        "```\n",
        "# Collect all possible pairs using combinations()\n",
        "possible_pairs = [*combinations(pokemon_types, 2)]\n",
        "\n",
        "# Create an empty list called enumerated_tuples\n",
        "enumerated_tuples = []\n",
        "\n",
        "# Append each enumerated_pair_tuple to the empty list above\n",
        "for i,pair in enumerate(possible_pairs, 1):\n",
        "    enumerated_pair_tuple = (i,) + pair\n",
        "    enumerated_tuples.append(enumerated_pair_tuple)\n",
        "\n",
        "# Convert all tuples in enumerated_tuples to a list\n",
        "enumerated_pairs = [*map(list, enumerated_tuples)]\n",
        "print(enumerated_pairs)\n",
        "```\n",
        "3\n",
        "```\n",
        "# Calculate the total HP avg and total HP standard deviation\n",
        "hp_avg = hps.mean()\n",
        "hp_std = hps.std()\n",
        "\n",
        "# Use NumPy to eliminate the previous for loop\n",
        "z_scores = (hps - hp_avg)/hp_std\n",
        "\n",
        "# Combine names, hps, and z_scores\n",
        "poke_zscores2 = [*zip(names, hps, z_scores)]\n",
        "print(*poke_zscores2[:3], sep='\\n')\n",
        "\n",
        "# Use list comprehension with the same logic as the highest_hp_pokemon code block\n",
        "highest_hp_pokemon2 = [(name, hp, z_scores) for name,hp,z_scores in poke_zscores2 if z_scores > 2]\n",
        "print(*highest_hp_pokemon2, sep='\\n')\n",
        "```"
      ],
      "metadata": {
        "id": "jxOBe_Fzr-iy"
      }
    },
    {
      "cell_type": "markdown",
      "source": [
        "## Intro to pandas DataFrame iteration\n",
        "### Pandas\n",
        "- Library userd for data analysis\n",
        "- Main data structure is the DataFrame\n",
        "  - Tabular data with labeled rows and columns\n",
        "  - Built on top of the Numpy array structure\n",
        "- Chapter objective:\n",
        "  -Best practice for iterating over a pandas DataFrame\n",
        "\n",
        "iterating with .iterrows() \\\n",
        ".iterrows() return each df row as a tuple (index, pandas series) pairs.\n",
        "```\n",
        "import pandas as pd\n",
        "import numpy as np\n",
        "\n",
        "baseball_df = pd.read_csv('baseball_df.csv')\n",
        "\n",
        "def calc_win_perc(wins, games_played):\n",
        "  \n",
        "  win_perc = wins / games_played\n",
        "\n",
        "return np.round(win_perc, 2)\n",
        "\n",
        "win_perc_list = []\n",
        "\n",
        "for i, row in baseball_df.iterrows():\n",
        "  wins = row['W'] # col named W\n",
        "  games_played = row['G'] # col named G\n",
        "\n",
        "  win_perc = calc_win_perc(wins, games_played)\n",
        "  win_perc_list.append(win_perc)\n",
        "\n",
        "baseball_df['WP'] = win_perc_list\n",
        "```\n",
        "\n",
        "### Exercise\n",
        "```\n",
        "# Create an empty list to store run differentials\n",
        "run_diffs = []\n",
        "\n",
        "def calc_run_diff(runs_scored, runs_allowed):\n",
        "\n",
        "    run_diff = runs_scored - runs_allowed\n",
        "\n",
        "    return run_diff\n",
        "\n",
        "# Write a for loop and collect runs allowed and runs scored for each row\n",
        "for i,row in giants_df.iterrows():\n",
        "    runs_scored = row['RS']\n",
        "    runs_allowed = row['RA']\n",
        "    \n",
        "    # Use the provided function to calculate run_diff for each row\n",
        "    run_diff = calc_run_diff(runs_scored, runs_allowed)\n",
        "    \n",
        "    # Append each run differential to the output list\n",
        "    run_diffs.append(run_diff)\n",
        "\n",
        "giants_df['RD'] = run_diffs\n",
        "print(giants_df)\n",
        "```\n",
        "\n",
        "## Another iterator method: .itertuples()\n",
        ".itertuples() is often more efficient than iterrows() \\\n",
        "We could use .itertuples to loop over df rows instead. It returns each df row as namedtuple\n",
        "\n",
        "- To print column from DF\n",
        "\n",
        "```\n",
        "## .iterrows()\n",
        "teams_wins_df = pd.read_csv('teams_wins_df.csv')\n",
        "\n",
        "for row_tuple in team_wins_df.iterrows():\n",
        "  print(row_tuple[1]['Team'])\n",
        "```\n",
        "\n",
        "```\n",
        "## .itertuples()\n",
        "teams_wins_df = pd.read_csv('teams_wins_df.csv')\n",
        "\n",
        "for row_tuple in team_wins_df.itertuples():\n",
        "  print(row_tuple.Team)\n",
        "```\n",
        "\n",
        "### Exercise\n",
        "1\n",
        "```\n",
        "# Loop over the DataFrame and print each row's Index, Year and Wins (W)\n",
        "\n",
        "for row in rangers_df.itertuples():\n",
        "  i = row.Index\n",
        "  year = row.Year\n",
        "  wins = row.W\n",
        "  \n",
        "  # Check if rangers made Playoffs (1 means yes; 0 means no)\n",
        "  if row.Playoffs == 1:\n",
        "    print(i, year, wins)\n",
        "```\n",
        "2\n",
        "```\n",
        "yankees_df = pd.read_csv('yankees_df.csv')\n",
        "\n",
        "run_diffs = []\n",
        "\n",
        "def calc_run_diff(runs_scored, runs_allowed):\n",
        "\n",
        "  run_diff = runs_scored - runs_allowed\n",
        "\n",
        "  return run_diff\n",
        "\n",
        "# Loop over the DataFrame and calculate each row's run differential\n",
        "for row in yankees_df.itertuples():\n",
        "  \n",
        "  runs_scored = row.RS\n",
        "  runs_allowed = row.RA\n",
        "\n",
        "  run_diff = calc_run_diff(runs_scored, runs_allowed)\n",
        "  \n",
        "  run_diffs.append(run_diff)\n",
        "\n",
        "# Append new column\n",
        "yankees_df['RD'] = run_diffs\n",
        "print(yankees_df)\n",
        "```\n",
        "\n",
        "### pandas alternative to looping\n",
        "To avoid using loop. This lesson will explore alternative to using .iterrows() and .itertuples()\n",
        "\n",
        "### This is not the most efficient option to add new col\n",
        "```\n",
        "baseball_df = pd.read_csv('baseball_df.csv')\n",
        "\n",
        "run_diffs_iterrows = []\n",
        "\n",
        "def calc_run_diff(runs_scored, runs_allowed):\n",
        "\n",
        "    run_diff = runs_scored - runs_allowed\n",
        "\n",
        "    return run_diff\n",
        "\n",
        "for i,row in baseball_df.iterrows():\n",
        "\n",
        "    run_diff = calc_run_diff(row['RS'], row['RA'])\n",
        "    \n",
        "    run_diffs_iterrows.append(run_diff)\n",
        "\n",
        "baseball_df['RD'] = run_diffs_iterrows\n",
        "print(baseball_df)\n",
        "```\n",
        "\n",
        "### Use .apply() method\n",
        "- Takes a function and applies it to a df\n",
        "  - Must specify an axis to apply ( 0 for cols; 1 for rows)\n",
        "- Can be used with anonymous function (lambda functions)\n",
        "\n",
        "Example:\n",
        "```\n",
        "run_diffs_apply = baseball_df.apply(\n",
        "    lambda row: calc_run_diff(row['RS'], row['RA']),\n",
        "    axis=1)\n",
        "\n",
        "baseball_df['RD'] = run_diffs_iterrows\n",
        "print(baseball_df)\n",
        "```\n",
        "\n",
        "### Exercise\n",
        "1\n",
        "```\n",
        "# Gather total runs scored in all games per year\n",
        "total_runs_scored = rays_df[['RS', 'RA']].apply(sum, axis=1)\n",
        "print(total_runs_scored)\n",
        "```\n",
        "2\n",
        "```\n",
        "# Display the first five rows of the DataFrame\n",
        "print(dbacks_df.head())\n",
        "\n",
        "# Create a win percentage Series\n",
        "win_percs = dbacks_df.apply(lambda row: calc_win_perc(row['W'], row['G']), axis=1)\n",
        "print(win_percs, '\\n')\n",
        "\n",
        "# Append a new column to dbacks_df\n",
        "dbacks_df['WP'] = win_percs\n",
        "print(dbacks_df, '\\n')\n",
        "\n",
        "# Display dbacks_df where WP is greater than 0.50\n",
        "print(dbacks_df[dbacks_df['WP'] >= 0.50])\n",
        "```\n",
        "\n",
        "### Optimal pandas iterating\n",
        "pandas internals\n",
        "- Eliminating loops applies to using pandas as well\n",
        "- pandas is built on NumPy\n",
        "  - Take advantage of NumPy array efficiencies\n",
        "\n",
        "```\n",
        "wins_np = baseball_df['W'].vales\n",
        "print(type(wins_np))\n",
        "## return <class 'numpy.ndarray'>\n",
        "```\n",
        "\n",
        "Power of vectorization\n",
        "- Broadcasting (vectorizing) is extremely efficient!\n",
        "- Instead of looping over a DF, treating each row with .iterrows or .itertuple, and .apply. We can perform calculation on underlying NumPy arrays.\n",
        "\n",
        "```\n",
        "baseball_df['RS'].values - baseball_df['RA'].values\n",
        "```\n",
        "\n",
        "Run differentials with arrays\n",
        "```\n",
        "run_diffs_np = baseball_df['RS'].values - baseball_df['RA'].values\n",
        "baseball_df['RD'] = run_diffs_np\n",
        "print(baseball_df)\n",
        "```\n",
        "\n",
        "### Exercise\n",
        "1\n",
        "```\n",
        "# Use the W array and G array to calculate win percentages\n",
        "win_percs_np = calc_win_perc(baseball_df['W'].values, baseball_df['G'].values)\n",
        "\n",
        "# Append a new column to baseball_df that stores all win percentages\n",
        "baseball_df['WP'] = win_percs_np\n",
        "\n",
        "print(baseball_df.head())\n",
        "```\n",
        "2\n",
        "```\n",
        "win_perc_preds_loop = []\n",
        "\n",
        "# 1. Use a loop and .itertuples() to collect each row's predicted win percentage\n",
        "for row in baseball_df.itertuples():\n",
        "    runs_scored = row.RS\n",
        "    runs_allowed = row.RA\n",
        "    win_perc_pred = predict_win_perc(runs_scored, runs_allowed)\n",
        "    win_perc_preds_loop.append(win_perc_pred)\n",
        "baseball_df['WP_preds_loop'] = win_perc_preds_loop\n",
        "\n",
        "# 2. Apply predict_win_perc to each row of the DataFrame\n",
        "win_perc_preds_apply = baseball_df.apply(lambda row: predict_win_perc(row['RS'], row['RA']), axis=1)\n",
        "baseball_df['WP_preds_apply'] = win_perc_preds_apply\n",
        "\n",
        "# 3. Calculate the win percentage predictions using NumPy arrays\n",
        "win_perc_preds_np = predict_win_perc(baseball_df['RS'].values, baseball_df['RA'].values)\n",
        "baseball_df['WP_preds'] = win_perc_preds_np\n",
        "print(baseball_df.head())\n",
        "```"
      ],
      "metadata": {
        "id": "Y14l-jOVGZLr"
      }
    }
  ]
}