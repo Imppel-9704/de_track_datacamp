{
  "nbformat": 4,
  "nbformat_minor": 0,
  "metadata": {
    "colab": {
      "provenance": [],
      "authorship_tag": "ABX9TyMvlwXQnwkRBJn1Qi82yF02",
      "include_colab_link": true
    },
    "kernelspec": {
      "name": "python3",
      "display_name": "Python 3"
    },
    "language_info": {
      "name": "python"
    }
  },
  "cells": [
    {
      "cell_type": "markdown",
      "metadata": {
        "id": "view-in-github",
        "colab_type": "text"
      },
      "source": [
        "<a href=\"https://colab.research.google.com/github/Imppel-9704/de_track_datacamp/blob/main/Project_l15_Cleaning_Banking_Marketing_Campaign_data.ipynb\" target=\"_parent\"><img src=\"https://colab.research.google.com/assets/colab-badge.svg\" alt=\"Open In Colab\"/></a>"
      ]
    },
    {
      "cell_type": "markdown",
      "source": [
        "# Project objective\n",
        "- Clean bank_marketing.csv and store as 3 DataFrames called ```client```, ```campaign```, and ```economics```, each containing the columns outlined in the notebook and formatted to the data types listed.\n",
        "- Save the three DataFrames to csv files, without an index, as ```client.csv```, ```campaign.csv```, and ```economics.csv``` respectively.\n",
        "\n",
        "## Requirement\n",
        "### client.csv\n",
        "\n",
        "| column | data type | description | cleaning requirements |\n",
        "|--------|-----------|-------------|-----------------------|\n",
        "| `client_id` | `integer` | Client ID | N/A |\n",
        "| `age` | `integer` | Client's age in years | N/A |\n",
        "| `job` | `object` | Client's type of job | Change `\".\"` to `\"_\"` |\n",
        "| `marital` | `object` | Client's marital status | N/A |\n",
        "| `education` | `object` | Client's level of education | Change `\".\"` to `\"_\"` and `\"unknown\"` to `np.NaN` |\n",
        "| `credit_default` | `bool` | Whether the client's credit is in default | Convert to boolean data type |\n",
        "| `mortgage` | `bool` | Whether the client has an existing mortgage (housing loan) | Convert to boolean data type |\n",
        "\n",
        "<br>\n",
        "\n",
        "### campaign.csv\n",
        "\n",
        "| column | data type | description | cleaning requirements |\n",
        "|--------|-----------|-------------|-----------------------|\n",
        "| `client_id` | `integer` | Client ID | N/A |\n",
        "| `number_contacts` | `integer` | Number of contact attempts to the client in the current campaign | N/A |\n",
        "| `contact_duration` | `integer` | Last contact duration in seconds | N/A |\n",
        "| `previous_campaign_contacts` | `integer` | Number of contact attempts to the client in the previous campaign | N/A |\n",
        "| `previous_outcome` | `bool` | Outcome of the previous campaign | Convert to boolean data type |\n",
        "| `campaign_outcome` | `bool` | Outcome of the current campaign | Convert to boolean data type |\n",
        "| `last_contact_date` | `datetime` | Last date the client was contacted | Create from a combination of `day`, `month`, and a newly created `year` column (which should have a value of `2022`); <br> **Format =** `\"YYYY-MM-DD\"` |\n",
        "\n",
        "<br>\n",
        "\n",
        "### economics.csv\n",
        "\n",
        "| column | data type | description | cleaning requirements |\n",
        "|--------|-----------|-------------|-----------------------|\n",
        "| `client_id` | `integer` | Client ID | N/A |\n",
        "| `cons_price_idx` | `float` | Consumer price index (monthly indicator) | N/A |\n",
        "| `euribor_three_months` | `float` | Euro Interbank Offered Rate (euribor) three-month rate (daily indicator) | N/A |"
      ],
      "metadata": {
        "id": "SNTrBB7qY8E_"
      }
    },
    {
      "cell_type": "code",
      "source": [
        "import pandas as pd\n",
        "import numpy as np\n",
        "\n",
        "# Read .csv file\n",
        "df = pd.read_csv(\"bank_marketing.csv\", sep=\",\")\n",
        "\n",
        "# Check columns type\n",
        "print(df.dtypes)"
      ],
      "metadata": {
        "colab": {
          "base_uri": "https://localhost:8080/"
        },
        "id": "3zuC2cuWks0C",
        "outputId": "0a248d62-b8d1-4afa-94d1-c41bd3bb1742"
      },
      "execution_count": 90,
      "outputs": [
        {
          "output_type": "stream",
          "name": "stdout",
          "text": [
            "client_id                       int64\n",
            "age                             int64\n",
            "job                            object\n",
            "marital                        object\n",
            "education                      object\n",
            "credit_default                 object\n",
            "mortgage                       object\n",
            "month                          object\n",
            "day                             int64\n",
            "contact_duration                int64\n",
            "number_contacts                 int64\n",
            "previous_campaign_contacts      int64\n",
            "previous_outcome               object\n",
            "cons_price_idx                float64\n",
            "euribor_three_months          float64\n",
            "campaign_outcome               object\n",
            "dtype: object\n"
          ]
        }
      ]
    },
    {
      "cell_type": "code",
      "source": [
        "# client.csv\n",
        "\n",
        "client = df.drop(columns=['month', 'day', 'contact_duration', 'number_contacts',\n",
        "                            'previous_campaign_contacts', 'previous_outcome', 'cons_price_idx',\n",
        "                            'euribor_three_months', 'campaign_outcome'])\n",
        "\n",
        "# Mapping values to boolean\n",
        "mapping = {'no': False, 'yes': True, 'unknown': None}\n",
        "client['mortgage'] = client['mortgage'].map(mapping)\n",
        "client['credit_default'] = client['credit_default'].map(mapping)\n",
        "client[['mortgage', 'credit_default']] = client[['mortgage', 'credit_default']].astype('bool')\n",
        "\n",
        "# Replacing . with _ and unknown with np.NaN\n",
        "client['job'] = client['job'].str.replace('.', '_')\n",
        "client['education'] = client['education'].str.replace('.', '_').replace('unknown', np.NaN)\n",
        "\n",
        "# Export\n",
        "client.to_csv(\"client.csv\", index=False)"
      ],
      "metadata": {
        "colab": {
          "base_uri": "https://localhost:8080/"
        },
        "id": "mhU227u96lLD",
        "outputId": "99119f07-7207-4d9d-bdd6-b3e2927d4de8"
      },
      "execution_count": 91,
      "outputs": [
        {
          "output_type": "stream",
          "name": "stderr",
          "text": [
            "<ipython-input-91-0c19218f6dc1>:14: FutureWarning: The default value of regex will change from True to False in a future version. In addition, single character regular expressions will *not* be treated as literal strings when regex=True.\n",
            "  client['job'] = client['job'].str.replace('.', '_')\n",
            "<ipython-input-91-0c19218f6dc1>:15: FutureWarning: The default value of regex will change from True to False in a future version. In addition, single character regular expressions will *not* be treated as literal strings when regex=True.\n",
            "  client['education'] = client['education'].str.replace('.', '_').replace('unknown', np.NaN)\n"
          ]
        }
      ]
    },
    {
      "cell_type": "code",
      "source": [
        "# campaign.csv\n",
        "\n",
        "campaign = df.drop(columns=['age', 'job', 'marital', 'education', 'credit_default', 'mortgage', 'cons_price_idx', 'euribor_three_months'])\n",
        "\n",
        "# Mapping values to boolean\n",
        "mapping_po = {'failure': False, 'success': True, \"nonexistent\": None}\n",
        "mapping_co = {'yes': True, 'no': False}\n",
        "campaign['previous_outcome'] = campaign['previous_outcome'].map(mapping_po)\n",
        "campaign['campaign_outcome'] = campaign['campaign_outcome'].map(mapping_co)\n",
        "campaign[['previous_outcome', 'campaign_outcome']] = campaign[['previous_outcome', 'campaign_outcome']].astype('bool')\n",
        "\n",
        "# mapping month and create columns year and combine day, month, year to last_contact_date\n",
        "month_map = {\n",
        "  'jan': 1,\n",
        "  'feb': 2,\n",
        "  'mar': 3,\n",
        "  'apr': 4,\n",
        "  'may': 5,\n",
        "  'jun': 6,\n",
        "  'jul': 7,\n",
        "  'aug': 8,\n",
        "  'sep': 9,\n",
        "  'oct': 10,\n",
        "  'nov': 11,\n",
        "  'dec': 12\n",
        "}\n",
        "\n",
        "campaign['month'] = campaign['month'].apply(lambda x: month_map[x])\n",
        "campaign['year'] = 2019\n",
        "campaign['last_contact_date'] = pd.to_datetime(campaign[['year', 'month', 'day']], format='%Y-%m-%d')\n",
        "\n",
        "campaign.drop(columns=['year', 'month', 'day'], inplace=True)\n",
        "\n",
        "campaign.to_csv(\"campaign.csv\", index=False)"
      ],
      "metadata": {
        "id": "bCmXzl-Z18WK"
      },
      "execution_count": 92,
      "outputs": []
    },
    {
      "cell_type": "code",
      "source": [
        "# Export file as economics.csv\n",
        "economics = df.drop(columns=['age', 'job', 'marital', 'education', 'credit_default', 'mortgage',\n",
        "                          'month', 'day', 'contact_duration', 'number_contacts', 'previous_campaign_contacts',\n",
        "                          'previous_outcome', 'campaign_outcome'])\n",
        "\n",
        "economics.to_csv(\"economics.csv\", index=False)"
      ],
      "metadata": {
        "id": "Aylc46X1kqo-"
      },
      "execution_count": 93,
      "outputs": []
    }
  ]
}